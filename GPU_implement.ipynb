{
  "nbformat": 4,
  "nbformat_minor": 0,
  "metadata": {
    "colab": {
      "provenance": [],
      "gpuType": "T4",
      "authorship_tag": "ABX9TyNDgSMCSYqAeLi/voPFJ3I+",
      "include_colab_link": true
    },
    "kernelspec": {
      "name": "python3",
      "display_name": "Python 3"
    },
    "language_info": {
      "name": "python"
    },
    "accelerator": "GPU"
  },
  "cells": [
    {
      "cell_type": "markdown",
      "metadata": {
        "id": "view-in-github",
        "colab_type": "text"
      },
      "source": [
        "<a href=\"https://colab.research.google.com/github/avishek-astra/Deep_Learning_Experiments/blob/main/GPU_implement.ipynb\" target=\"_parent\"><img src=\"https://colab.research.google.com/assets/colab-badge.svg\" alt=\"Open In Colab\"/></a>"
      ]
    },
    {
      "cell_type": "code",
      "execution_count": 2,
      "metadata": {
        "id": "bA-Np2pibRZW"
      },
      "outputs": [],
      "source": [
        "#import libraries\n",
        "import torch\n",
        "import torch.nn as nn\n",
        "import matplotlib.pyplot as plt\n",
        "import time"
      ]
    },
    {
      "cell_type": "markdown",
      "source": [
        "Select the processor device"
      ],
      "metadata": {
        "id": "kMxHZuLncORJ"
      }
    },
    {
      "cell_type": "code",
      "source": [
        "#use GPU\n",
        "device=torch.device('cuda:0' if torch.cuda.is_available() else 'cpu')\n",
        "print(device)"
      ],
      "metadata": {
        "colab": {
          "base_uri": "https://localhost:8080/"
        },
        "id": "2mFyuMBgb7fz",
        "outputId": "6615a26b-c6e2-4f7c-aaf6-3576b1d1e810"
      },
      "execution_count": 3,
      "outputs": [
        {
          "output_type": "stream",
          "name": "stdout",
          "text": [
            "cuda:0\n"
          ]
        }
      ]
    },
    {
      "cell_type": "markdown",
      "source": [
        "Build a simple model"
      ],
      "metadata": {
        "id": "gfLpTuSRd9cl"
      }
    },
    {
      "cell_type": "code",
      "source": [
        "net=nn.Sequential(\n",
        "    nn.Linear(20,100),\n",
        "    nn.ReLU(),\n",
        "    nn.Linear(100,500),\n",
        "    nn.ReLU(),\n",
        "    nn.Linear(500,30),\n",
        "    nn.ReLU(),\n",
        "    nn.Linear(30,2),\n",
        ")"
      ],
      "metadata": {
        "id": "SSD0xhURdlDv"
      },
      "execution_count": 4,
      "outputs": []
    },
    {
      "cell_type": "markdown",
      "source": [
        "Make some data"
      ],
      "metadata": {
        "id": "Q8q0afobejbe"
      }
    },
    {
      "cell_type": "code",
      "source": [
        "#just some random fluff\n",
        "data=torch.randn((1000,20)) #samples X features\n",
        "labels=torch.randint(low=0,high=2,size=(1,1000)) #samples X labels\n",
        "labels"
      ],
      "metadata": {
        "collapsed": true,
        "id": "TSgVYIloeh6O"
      },
      "execution_count": null,
      "outputs": []
    },
    {
      "cell_type": "markdown",
      "source": [
        "Send the model and the data to the GPU"
      ],
      "metadata": {
        "id": "IVSxcKQffFuX"
      }
    },
    {
      "cell_type": "code",
      "source": [
        "#model\n",
        "net.to(device)\n",
        "#data\n",
        "data=data.to(device)\n",
        "labels=labels.to(device)\n",
        "#\n",
        "data"
      ],
      "metadata": {
        "colab": {
          "base_uri": "https://localhost:8080/"
        },
        "id": "oKtVb_-oet5Q",
        "outputId": "765baf86-d507-46c8-8934-d2dcb42afbe2"
      },
      "execution_count": 10,
      "outputs": [
        {
          "output_type": "execute_result",
          "data": {
            "text/plain": [
              "tensor([[-0.1960, -0.4537, -0.4620,  ...,  1.3896, -0.6407, -0.4682],\n",
              "        [-0.4795,  0.6234, -0.9654,  ..., -0.7250,  1.5526, -0.5641],\n",
              "        [-1.4619, -0.4896, -1.3069,  ..., -0.1491,  0.0161,  0.3690],\n",
              "        ...,\n",
              "        [-0.6185, -0.3004,  0.6604,  ..., -0.2420,  0.7704, -0.1141],\n",
              "        [ 0.5811,  2.2209, -0.2809,  ..., -0.7275,  1.2687,  0.5526],\n",
              "        [ 0.2339, -0.4329,  0.6585,  ...,  0.6000, -0.1369, -0.4887]],\n",
              "       device='cuda:0')"
            ]
          },
          "metadata": {},
          "execution_count": 10
        }
      ]
    },
    {
      "cell_type": "code",
      "source": [
        "#you can also create data directly on the GPU\n",
        "dataG=torch.randn((1000,20),device=device)\n",
        "dataC=torch.randn((1000,20),device='cpu')\n",
        "\n",
        "print(data.device)\n",
        "print(dataG.device)\n",
        "print(dataC.device)"
      ],
      "metadata": {
        "colab": {
          "base_uri": "https://localhost:8080/"
        },
        "id": "xiysAmMggM6B",
        "outputId": "0b2e987b-f472-4990-a6e4-7278c9e5b7e4"
      },
      "execution_count": 11,
      "outputs": [
        {
          "output_type": "stream",
          "name": "stdout",
          "text": [
            "cuda:0\n",
            "cuda:0\n",
            "cpu\n"
          ]
        }
      ]
    },
    {
      "cell_type": "code",
      "source": [
        "output=net(data)\n",
        "output.device"
      ],
      "metadata": {
        "colab": {
          "base_uri": "https://localhost:8080/"
        },
        "id": "AJYoW75pgeF_",
        "outputId": "7e549135-1790-4f7a-9cca-94455ef4fe3a"
      },
      "execution_count": 12,
      "outputs": [
        {
          "output_type": "execute_result",
          "data": {
            "text/plain": [
              "device(type='cuda', index=0)"
            ]
          },
          "metadata": {},
          "execution_count": 12
        }
      ]
    },
    {
      "cell_type": "code",
      "source": [
        "plt.plot(output.detach().cpu());"
      ],
      "metadata": {
        "colab": {
          "base_uri": "https://localhost:8080/",
          "height": 430
        },
        "id": "Wkz7KxYYg8ra",
        "outputId": "737f9b5c-1054-49f2-cb94-577315171631"
      },
      "execution_count": 13,
      "outputs": [
        {
          "output_type": "display_data",
          "data": {
            "text/plain": [
              "<Figure size 640x480 with 1 Axes>"
            ],
            "image/png": "[encoded data removed]"
          },
          "metadata": {}
        }
      ]
    },
    {
      "cell_type": "markdown",
      "source": [
        "Experiment:Computation time"
      ],
      "metadata": {
        "id": "lznzGHsEhiv-"
      }
    },
    {
      "cell_type": "code",
      "source": [
        "#start the clock\n",
        "starttime=time.process_time()\n",
        "#move,run,retrieve\n",
        "device='cuda:0'\n",
        "net.to(device)\n",
        "data=data.to(device)\n",
        "labels=labels.to(device)\n",
        "output=net(data).detach().cpu()\n",
        "#stop the clock\n",
        "GPUtime=1000*(time.process_time()-starttime)"
      ],
      "metadata": {
        "id": "R74s2ejqhPCe"
      },
      "execution_count": 18,
      "outputs": []
    },
    {
      "cell_type": "code",
      "source": [
        "#start the clock\n",
        "starttime=time.process_time()\n",
        "#move,run,retrieve\n",
        "device='cpu'\n",
        "net.to(device)\n",
        "data=data.to(device)\n",
        "labels=labels.to(device)\n",
        "output=net(data).detach().cpu()\n",
        "#stop the clock\n",
        "CPUtime=1000*(time.process_time()-starttime)"
      ],
      "metadata": {
        "id": "M4Pbsq_mixE6"
      },
      "execution_count": 19,
      "outputs": []
    },
    {
      "cell_type": "code",
      "source": [
        "#time in ms\n",
        "[CPUtime,GPUtime]"
      ],
      "metadata": {
        "colab": {
          "base_uri": "https://localhost:8080/"
        },
        "id": "DLeJyl-XjRUT",
        "outputId": "7b63143e-76b9-41e4-87a2-06856bec0bce"
      },
      "execution_count": 20,
      "outputs": [
        {
          "output_type": "execute_result",
          "data": {
            "text/plain": [
              "[6.08797099999947, 3.156015000001844]"
            ]
          },
          "metadata": {},
          "execution_count": 20
        }
      ]
    },
    {
      "cell_type": "code",
      "source": [
        "#MAY BE SENDING TO A CPU TAKES SO MUCH TIME\n",
        "\n",
        "net=nn.Sequential(\n",
        "    nn.Linear(20,100),\n",
        "    nn.ReLU(),\n",
        "    nn.Linear(100,500),\n",
        "    nn.ReLU(),\n",
        "    nn.Linear(500,30),\n",
        "    nn.ReLU(),\n",
        "    nn.Linear(30,2),\n",
        ")\n",
        "data=torch.randn(( 1000,20))\n",
        "##rerun the experiment\n",
        "starttime=time.process_time()\n",
        "output=net(data).detach()\n",
        "CPUtime2=1000*(time.process_time()-starttime)\n",
        "#report the results\n",
        "[CPUtime2,CPUtime,GPUtime]"
      ],
      "metadata": {
        "colab": {
          "base_uri": "https://localhost:8080/"
        },
        "id": "07gCMaBijc-_",
        "outputId": "28e927fb-6b13-46b6-d443-d91f21ab9e1a"
      },
      "execution_count": 21,
      "outputs": [
        {
          "output_type": "execute_result",
          "data": {
            "text/plain": [
              "[3.856881000004364, 6.08797099999947, 3.156015000001844]"
            ]
          },
          "metadata": {},
          "execution_count": 21
        }
      ]
    },
    {
      "cell_type": "code",
      "source": [],
      "metadata": {
        "id": "IAFFtc-qlbDP"
      },
      "execution_count": null,
      "outputs": []
    }
  ]
}