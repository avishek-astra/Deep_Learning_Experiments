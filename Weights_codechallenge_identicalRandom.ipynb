{
  "nbformat": 4,
  "nbformat_minor": 0,
  "metadata": {
    "colab": {
      "provenance": [],
      "authorship_tag": "ABX9TyNvANZLWSuh+5yrHcZ9jjxr",
      "include_colab_link": true
    },
    "kernelspec": {
      "name": "python3",
      "display_name": "Python 3"
    },
    "language_info": {
      "name": "python"
    }
  },
  "cells": [
    {
      "cell_type": "markdown",
      "metadata": {
        "id": "view-in-github",
        "colab_type": "text"
      },
      "source": [
        "<a href=\"https://colab.research.google.com/github/avishek-astra/Deep_Learning_Experiments/blob/main/Weights_codechallenge_identicalRandom.ipynb\" target=\"_parent\"><img src=\"https://colab.research.google.com/assets/colab-badge.svg\" alt=\"Open In Colab\"/></a>"
      ]
    },
    {
      "cell_type": "code",
      "execution_count": 2,
      "metadata": {
        "id": "afIaSCBC9VbX"
      },
      "outputs": [],
      "source": [
        "#import libraries\n",
        "import numpy as np\n",
        "import torch\n",
        "import torch.nn as nn\n",
        "import copy\n",
        "\n",
        "import matplotlib.pyplot as plt\n",
        "import matplotlib_inline.backend_inline\n",
        "matplotlib_inline.backend_inline.set_matplotlib_formats('svg')\n"
      ]
    },
    {
      "cell_type": "code",
      "source": [
        "#create a model\n",
        "net=nn.Sequential(\n",
        "    nn.Linear(2,8),  #input layer\n",
        "    nn.Linear(8,1),  #hidden layer\n",
        "    nn.Linear(1,1),  #output unit\n",
        ")"
      ],
      "metadata": {
        "id": "7MIUh8kT93b6"
      },
      "execution_count": 3,
      "outputs": []
    },
    {
      "cell_type": "markdown",
      "source": [
        "Create the four networks"
      ],
      "metadata": {
        "id": "FunZ4R-j-jGO"
      }
    },
    {
      "cell_type": "code",
      "source": [
        "##No random seed\n",
        "#create a 'template' network\n",
        "net_noseed=copy.deepcopy(net)\n",
        "#update the weights\n",
        "for p in net_noseed.named_parameters():\n",
        "    if 'weight' in p[0]:\n",
        "      nn.init.xavier_normal_(p[1].data)"
      ],
      "metadata": {
        "id": "X7xRBGNu-hDx"
      },
      "execution_count": 4,
      "outputs": []
    },
    {
      "cell_type": "code",
      "source": [
        "##Random seed 1a\n",
        "##create a 'template' network\n",
        "net_rs1a=copy.deepcopy(net)\n",
        "#set the seed to 1\n",
        "torch.manual_seed(1)\n",
        "#update the weights\n",
        "for p in net_rs1a.named_parameters():\n",
        "    if 'weight' in p[0]:\n",
        "      nn.init.xavier_normal_(p[1].data)"
      ],
      "metadata": {
        "id": "alo2gmSJ_DQE"
      },
      "execution_count": 5,
      "outputs": []
    },
    {
      "cell_type": "code",
      "source": [
        "###RANDOM seed 2\n",
        "#create a 'template' network\n",
        "net_rs2=copy.deepcopy(net)\n",
        "#set the seed to 2\n",
        "torch.manual_seed(2)\n",
        "#update the weights\n",
        "for p in net_rs2.named_parameters():\n",
        "    if 'weight' in p[0]:\n",
        "      nn.init.xavier_normal_(p[1].data)"
      ],
      "metadata": {
        "id": "UbQJNXzr_c0n"
      },
      "execution_count": 6,
      "outputs": []
    },
    {
      "cell_type": "code",
      "source": [
        "###RANDOM seed 1b\n",
        "##create a 'template' network\n",
        "net_rs1b=copy.deepcopy(net)\n",
        "#set the seed to 1\n",
        "torch.manual_seed(1)\n",
        "#update the weights\n",
        "for p in net_rs1b.named_parameters():\n",
        "    if 'weight' in p[0]:\n",
        "      nn.init.xavier_normal_(p[1].data)"
      ],
      "metadata": {
        "id": "zmnrJCP5_uf3"
      },
      "execution_count": 7,
      "outputs": []
    },
    {
      "cell_type": "markdown",
      "source": [
        "Extract all weights form all network\n"
      ],
      "metadata": {
        "id": "fhLAWE-J_9TG"
      }
    },
    {
      "cell_type": "code",
      "source": [
        "#initialize empty arrays\n",
        "w_ns=np.array([])\n",
        "w_1a=np.array([])\n",
        "w_2=np.array([])\n",
        "w_1b=np.array([])\n",
        "#loop over layers in the models\n",
        "for i in range(3):\n",
        "  #extract the vectorized weights matrices\n",
        "  w_ns=np.append(w_ns,net_noseed[i].weight.detach().numpy().flatten())\n",
        "  w_1a=np.append(w_1a,net_rs1a[i].weight.detach().numpy().flatten())\n",
        "  w_2=np.append(w_2,net_rs2[i].weight.detach().numpy().flatten())\n",
        "  w_1b=np.append(w_1b,net_rs1b[i].weight.detach().numpy().flatten())\n",
        "#check\n",
        "w_ns"
      ],
      "metadata": {
        "id": "F-rRiqPq_7Yq",
        "colab": {
          "base_uri": "https://localhost:8080/"
        },
        "outputId": "cb828bdb-2026-4158-dbe8-0a765c4e9c84"
      },
      "execution_count": 8,
      "outputs": [
        {
          "output_type": "execute_result",
          "data": {
            "text/plain": [
              "array([-0.83233702, -0.0561881 ,  0.09147899, -0.26319855,  0.60876584,\n",
              "       -0.478127  ,  0.50510222,  0.53457409,  0.20079803, -0.20306273,\n",
              "       -0.04785665,  0.72747809,  0.36901981, -0.33478943, -0.74895126,\n",
              "       -0.13081303, -0.07018673,  0.83674383, -0.95706207,  0.10673429,\n",
              "       -0.11732225, -0.62296939,  0.06461935,  0.3538937 , -0.97672874])"
            ]
          },
          "metadata": {},
          "execution_count": 8
        }
      ]
    },
    {
      "cell_type": "code",
      "source": [
        "#plotting\n",
        "fig=plt.figure(figsize=(15,5))\n",
        "plt.plot(w_ns,'ro',markersize=12,label='no seed')\n",
        "plt.plot(w_1a,'ks',markersize=12,label='rs1a')\n",
        "plt.plot(w_2 ,'m^',markersize=12,label='rs2')\n",
        "plt.plot(w_1b,'g+',markersize=15,label='rs1b',markeredgewidth=3)\n",
        "plt.legend()\n",
        "plt.xlabel('Vectorized weight index')\n",
        "plt.ylabel('Weight value')\n",
        "\n",
        "plt.show()"
      ],
      "metadata": {
        "colab": {
          "base_uri": "https://localhost:8080/",
          "height": 471
        },
        "id": "wIBBWk400iPo",
        "outputId": "c0ed1be5-ab11-4361-c109-ac01cf9066f2"
      },
      "execution_count": 9,
      "outputs": [
        {
          "output_type": "display_data",
          "data": {
            "text/plain": [
              "<Figure size 1500x500 with 1 Axes>"
            ],
            "image/svg+xml": "<?xml version=\"1.0\" encoding=\"utf-8\" standalone=\"no\"?>\n<!DOCTYPE svg PUBLIC \"-//W3C//DTD SVG 1.1//EN\"\n  \"http://www.w3.org/Graphics/SVG/1.1/DTD/svg11.dtd\">\n<svg xmlns:xlink=\"http://www.w3.org/1999/xlink\" width=\"902.745028pt\" height=\"321.95625pt\" viewBox=\"0 0 902.745028 321.95625\" xmlns=\"http://www.w3.org/2000/svg\" version=\"1.1\">\n <metadata>\n  <rdf:RDF xmlns:dc=\"http://purl.org/dc/elements/1.1/\" xmlns:cc=\"http://creativecommons.org/ns#\" xmlns:rdf=\"http://www.w3.org/1999/02/22-rdf-syntax-ns#\">\n   <cc:Work>\n    <dc:type rdf:resource=\"http://purl.org/dc/dcmitype/StillImage\"/>\n    <dc:date>2025-06-02T04:13:16.910490</dc:date>\n    <dc:format>image/svg+xml</dc:format>\n    <dc:creator>\n     <cc:Agent>\n      <dc:title>Matplotlib v3.10.0, https://matplotlib.org/</dc:title>\n     </cc:Agent>\n    </dc:creator>\n   </cc:Work>\n  </rdf:RDF>\n </metadata>\n <defs>\n  <style type=\"text/css\">*{stroke-linejoin: round; stroke-linecap: butt}</style>\n </defs>\n <g id=\"figure_1\">\n  <g id=\"patch_1\">\n   <path d=\"M -0 321.95625 \nL 902.745028 321.95625 \nL 902.745028 0 \nL -0 0 \nz\n\" style=\"fill: #ffffff\"/>\n  </g>\n  <g id=\"axes_1\">\n   <g id=\"patch_2\">\n    <path d=\"M 58.523438 284.4 \nL 895.523438 284.4 \nL 895.523438 7.2 \nL 58.523438 7.2 \nz\n\" style=\"fill: #ffffff\"/>\n   </g>\n   <g id=\"matplotlib.axis_1\">\n    <g id=\"xtick_1\">\n     <g id=\"line2d_1\">\n      <defs>\n       <path id=\"mb4beb98bd1\" d=\"M 0 0 \nL 0 3.5 \n\" style=\"stroke: #000000; stroke-width: 0.8\"/>\n      </defs>\n      <g>\n       <use xlink:href=\"#mb4beb98bd1\" x=\"96.568892\" y=\"284.4\" style=\"stroke: #000000; stroke-width: 0.8\"/>\n      </g>\n     </g>\n     <g id=\"text_1\">\n      <!-- 0 -->\n      <g transform=\"translate(93.387642 298.998438) scale(0.1 -0.1)\">\n       <defs>\n        <path id=\"DejaVuSans-30\" d=\"M 2034 4250 \nQ 1547 4250 1301 3770 \nQ 1056 3291 1056 2328 \nQ 1056 1369 1301 889 \nQ 1547 409 2034 409 \nQ 2525 409 2770 889 \nQ 3016 1369 3016 2328 \nQ 3016 3291 2770 3770 \nQ 2525 4250 2034 4250 \nz\nM 2034 4750 \nQ 2819 4750 3233 4129 \nQ 3647 3509 3647 2328 \nQ 3647 1150 3233 529 \nQ 2819 -91 2034 -91 \nQ 1250 -91 836 529 \nQ 422 1150 422 2328 \nQ 422 3509 836 4129 \nQ 1250 4750 2034 4750 \nz\n\" transform=\"scale(0.015625)\"/>\n       </defs>\n       <use xlink:href=\"#DejaVuSans-30\"/>\n      </g>\n     </g>\n    </g>\n    <g id=\"xtick_2\">\n     <g id=\"line2d_2\">\n      <g>\n       <use xlink:href=\"#mb4beb98bd1\" x=\"255.091619\" y=\"284.4\" style=\"stroke: #000000; stroke-width: 0.8\"/>\n      </g>\n     </g>\n     <g id=\"text_2\">\n      <!-- 5 -->\n      <g transform=\"translate(251.910369 298.998438) scale(0.1 -0.1)\">\n       <defs>\n        <path id=\"DejaVuSans-35\" d=\"M 691 4666 \nL 3169 4666 \nL 3169 4134 \nL 1269 4134 \nL 1269 2991 \nQ 1406 3038 1543 3061 \nQ 1681 3084 1819 3084 \nQ 2600 3084 3056 2656 \nQ 3513 2228 3513 1497 \nQ 3513 744 3044 326 \nQ 2575 -91 1722 -91 \nQ 1428 -91 1123 -41 \nQ 819 9 494 109 \nL 494 744 \nQ 775 591 1075 516 \nQ 1375 441 1709 441 \nQ 2250 441 2565 725 \nQ 2881 1009 2881 1497 \nQ 2881 1984 2565 2268 \nQ 2250 2553 1709 2553 \nQ 1456 2553 1204 2497 \nQ 953 2441 691 2322 \nL 691 4666 \nz\n\" transform=\"scale(0.015625)\"/>\n       </defs>\n       <use xlink:href=\"#DejaVuSans-35\"/>\n      </g>\n     </g>\n    </g>\n    <g id=\"xtick_3\">\n     <g id=\"line2d_3\">\n      <g>\n       <use xlink:href=\"#mb4beb98bd1\" x=\"413.614347\" y=\"284.4\" style=\"stroke: #000000; stroke-width: 0.8\"/>\n      </g>\n     </g>\n     <g id=\"text_3\">\n      <!-- 10 -->\n      <g transform=\"translate(407.251847 298.998438) scale(0.1 -0.1)\">\n       <defs>\n        <path id=\"DejaVuSans-31\" d=\"M 794 531 \nL 1825 531 \nL 1825 4091 \nL 703 3866 \nL 703 4441 \nL 1819 4666 \nL 2450 4666 \nL 2450 531 \nL 3481 531 \nL 3481 0 \nL 794 0 \nL 794 531 \nz\n\" transform=\"scale(0.015625)\"/>\n       </defs>\n       <use xlink:href=\"#DejaVuSans-31\"/>\n       <use xlink:href=\"#DejaVuSans-30\" transform=\"translate(63.623047 0)\"/>\n      </g>\n     </g>\n    </g>\n    <g id=\"xtick_4\">\n     <g id=\"line2d_4\">\n      <g>\n       <use xlink:href=\"#mb4beb98bd1\" x=\"572.137074\" y=\"284.4\" style=\"stroke: #000000; stroke-width: 0.8\"/>\n      </g>\n     </g>\n     <g id=\"text_4\">\n      <!-- 15 -->\n      <g transform=\"translate(565.774574 298.998438) scale(0.1 -0.1)\">\n       <use xlink:href=\"#DejaVuSans-31\"/>\n       <use xlink:href=\"#DejaVuSans-35\" transform=\"translate(63.623047 0)\"/>\n      </g>\n     </g>\n    </g>\n    <g id=\"xtick_5\">\n     <g id=\"line2d_5\">\n      <g>\n       <use xlink:href=\"#mb4beb98bd1\" x=\"730.659801\" y=\"284.4\" style=\"stroke: #000000; stroke-width: 0.8\"/>\n      </g>\n     </g>\n     <g id=\"text_5\">\n      <!-- 20 -->\n      <g transform=\"translate(724.297301 298.998438) scale(0.1 -0.1)\">\n       <defs>\n        <path id=\"DejaVuSans-32\" d=\"M 1228 531 \nL 3431 531 \nL 3431 0 \nL 469 0 \nL 469 531 \nQ 828 903 1448 1529 \nQ 2069 2156 2228 2338 \nQ 2531 2678 2651 2914 \nQ 2772 3150 2772 3378 \nQ 2772 3750 2511 3984 \nQ 2250 4219 1831 4219 \nQ 1534 4219 1204 4116 \nQ 875 4013 500 3803 \nL 500 4441 \nQ 881 4594 1212 4672 \nQ 1544 4750 1819 4750 \nQ 2544 4750 2975 4387 \nQ 3406 4025 3406 3419 \nQ 3406 3131 3298 2873 \nQ 3191 2616 2906 2266 \nQ 2828 2175 2409 1742 \nQ 1991 1309 1228 531 \nz\n\" transform=\"scale(0.015625)\"/>\n       </defs>\n       <use xlink:href=\"#DejaVuSans-32\"/>\n       <use xlink:href=\"#DejaVuSans-30\" transform=\"translate(63.623047 0)\"/>\n      </g>\n     </g>\n    </g>\n    <g id=\"xtick_6\">\n     <g id=\"line2d_6\">\n      <g>\n       <use xlink:href=\"#mb4beb98bd1\" x=\"889.182528\" y=\"284.4\" style=\"stroke: #000000; stroke-width: 0.8\"/>\n      </g>\n     </g>\n     <g id=\"text_6\">\n      <!-- 25 -->\n      <g transform=\"translate(882.820028 298.998438) scale(0.1 -0.1)\">\n       <use xlink:href=\"#DejaVuSans-32\"/>\n       <use xlink:href=\"#DejaVuSans-35\" transform=\"translate(63.623047 0)\"/>\n      </g>\n     </g>\n    </g>\n    <g id=\"text_7\">\n     <!-- Vectorized weight index -->\n     <g transform=\"translate(417.109375 312.676562) scale(0.1 -0.1)\">\n      <defs>\n       <path id=\"DejaVuSans-56\" d=\"M 1831 0 \nL 50 4666 \nL 709 4666 \nL 2188 738 \nL 3669 4666 \nL 4325 4666 \nL 2547 0 \nL 1831 0 \nz\n\" transform=\"scale(0.015625)\"/>\n       <path id=\"DejaVuSans-65\" d=\"M 3597 1894 \nL 3597 1613 \nL 953 1613 \nQ 991 1019 1311 708 \nQ 1631 397 2203 397 \nQ 2534 397 2845 478 \nQ 3156 559 3463 722 \nL 3463 178 \nQ 3153 47 2828 -22 \nQ 2503 -91 2169 -91 \nQ 1331 -91 842 396 \nQ 353 884 353 1716 \nQ 353 2575 817 3079 \nQ 1281 3584 2069 3584 \nQ 2775 3584 3186 3129 \nQ 3597 2675 3597 1894 \nz\nM 3022 2063 \nQ 3016 2534 2758 2815 \nQ 2500 3097 2075 3097 \nQ 1594 3097 1305 2825 \nQ 1016 2553 972 2059 \nL 3022 2063 \nz\n\" transform=\"scale(0.015625)\"/>\n       <path id=\"DejaVuSans-63\" d=\"M 3122 3366 \nL 3122 2828 \nQ 2878 2963 2633 3030 \nQ 2388 3097 2138 3097 \nQ 1578 3097 1268 2742 \nQ 959 2388 959 1747 \nQ 959 1106 1268 751 \nQ 1578 397 2138 397 \nQ 2388 397 2633 464 \nQ 2878 531 3122 666 \nL 3122 134 \nQ 2881 22 2623 -34 \nQ 2366 -91 2075 -91 \nQ 1284 -91 818 406 \nQ 353 903 353 1747 \nQ 353 2603 823 3093 \nQ 1294 3584 2113 3584 \nQ 2378 3584 2631 3529 \nQ 2884 3475 3122 3366 \nz\n\" transform=\"scale(0.015625)\"/>\n       <path id=\"DejaVuSans-74\" d=\"M 1172 4494 \nL 1172 3500 \nL 2356 3500 \nL 2356 3053 \nL 1172 3053 \nL 1172 1153 \nQ 1172 725 1289 603 \nQ 1406 481 1766 481 \nL 2356 481 \nL 2356 0 \nL 1766 0 \nQ 1100 0 847 248 \nQ 594 497 594 1153 \nL 594 3053 \nL 172 3053 \nL 172 3500 \nL 594 3500 \nL 594 4494 \nL 1172 4494 \nz\n\" transform=\"scale(0.015625)\"/>\n       <path id=\"DejaVuSans-6f\" d=\"M 1959 3097 \nQ 1497 3097 1228 2736 \nQ 959 2375 959 1747 \nQ 959 1119 1226 758 \nQ 1494 397 1959 397 \nQ 2419 397 2687 759 \nQ 2956 1122 2956 1747 \nQ 2956 2369 2687 2733 \nQ 2419 3097 1959 3097 \nz\nM 1959 3584 \nQ 2709 3584 3137 3096 \nQ 3566 2609 3566 1747 \nQ 3566 888 3137 398 \nQ 2709 -91 1959 -91 \nQ 1206 -91 779 398 \nQ 353 888 353 1747 \nQ 353 2609 779 3096 \nQ 1206 3584 1959 3584 \nz\n\" transform=\"scale(0.015625)\"/>\n       <path id=\"DejaVuSans-72\" d=\"M 2631 2963 \nQ 2534 3019 2420 3045 \nQ 2306 3072 2169 3072 \nQ 1681 3072 1420 2755 \nQ 1159 2438 1159 1844 \nL 1159 0 \nL 581 0 \nL 581 3500 \nL 1159 3500 \nL 1159 2956 \nQ 1341 3275 1631 3429 \nQ 1922 3584 2338 3584 \nQ 2397 3584 2469 3576 \nQ 2541 3569 2628 3553 \nL 2631 2963 \nz\n\" transform=\"scale(0.015625)\"/>\n       <path id=\"DejaVuSans-69\" d=\"M 603 3500 \nL 1178 3500 \nL 1178 0 \nL 603 0 \nL 603 3500 \nz\nM 603 4863 \nL 1178 4863 \nL 1178 4134 \nL 603 4134 \nL 603 4863 \nz\n\" transform=\"scale(0.015625)\"/>\n       <path id=\"DejaVuSans-7a\" d=\"M 353 3500 \nL 3084 3500 \nL 3084 2975 \nL 922 459 \nL 3084 459 \nL 3084 0 \nL 275 0 \nL 275 525 \nL 2438 3041 \nL 353 3041 \nL 353 3500 \nz\n\" transform=\"scale(0.015625)\"/>\n       <path id=\"DejaVuSans-64\" d=\"M 2906 2969 \nL 2906 4863 \nL 3481 4863 \nL 3481 0 \nL 2906 0 \nL 2906 525 \nQ 2725 213 2448 61 \nQ 2172 -91 1784 -91 \nQ 1150 -91 751 415 \nQ 353 922 353 1747 \nQ 353 2572 751 3078 \nQ 1150 3584 1784 3584 \nQ 2172 3584 2448 3432 \nQ 2725 3281 2906 2969 \nz\nM 947 1747 \nQ 947 1113 1208 752 \nQ 1469 391 1925 391 \nQ 2381 391 2643 752 \nQ 2906 1113 2906 1747 \nQ 2906 2381 2643 2742 \nQ 2381 3103 1925 3103 \nQ 1469 3103 1208 2742 \nQ 947 2381 947 1747 \nz\n\" transform=\"scale(0.015625)\"/>\n       <path id=\"DejaVuSans-20\" transform=\"scale(0.015625)\"/>\n       <path id=\"DejaVuSans-77\" d=\"M 269 3500 \nL 844 3500 \nL 1563 769 \nL 2278 3500 \nL 2956 3500 \nL 3675 769 \nL 4391 3500 \nL 4966 3500 \nL 4050 0 \nL 3372 0 \nL 2619 2869 \nL 1863 0 \nL 1184 0 \nL 269 3500 \nz\n\" transform=\"scale(0.015625)\"/>\n       <path id=\"DejaVuSans-67\" d=\"M 2906 1791 \nQ 2906 2416 2648 2759 \nQ 2391 3103 1925 3103 \nQ 1463 3103 1205 2759 \nQ 947 2416 947 1791 \nQ 947 1169 1205 825 \nQ 1463 481 1925 481 \nQ 2391 481 2648 825 \nQ 2906 1169 2906 1791 \nz\nM 3481 434 \nQ 3481 -459 3084 -895 \nQ 2688 -1331 1869 -1331 \nQ 1566 -1331 1297 -1286 \nQ 1028 -1241 775 -1147 \nL 775 -588 \nQ 1028 -725 1275 -790 \nQ 1522 -856 1778 -856 \nQ 2344 -856 2625 -561 \nQ 2906 -266 2906 331 \nL 2906 616 \nQ 2728 306 2450 153 \nQ 2172 0 1784 0 \nQ 1141 0 747 490 \nQ 353 981 353 1791 \nQ 353 2603 747 3093 \nQ 1141 3584 1784 3584 \nQ 2172 3584 2450 3431 \nQ 2728 3278 2906 2969 \nL 2906 3500 \nL 3481 3500 \nL 3481 434 \nz\n\" transform=\"scale(0.015625)\"/>\n       <path id=\"DejaVuSans-68\" d=\"M 3513 2113 \nL 3513 0 \nL 2938 0 \nL 2938 2094 \nQ 2938 2591 2744 2837 \nQ 2550 3084 2163 3084 \nQ 1697 3084 1428 2787 \nQ 1159 2491 1159 1978 \nL 1159 0 \nL 581 0 \nL 581 4863 \nL 1159 4863 \nL 1159 2956 \nQ 1366 3272 1645 3428 \nQ 1925 3584 2291 3584 \nQ 2894 3584 3203 3211 \nQ 3513 2838 3513 2113 \nz\n\" transform=\"scale(0.015625)\"/>\n       <path id=\"DejaVuSans-6e\" d=\"M 3513 2113 \nL 3513 0 \nL 2938 0 \nL 2938 2094 \nQ 2938 2591 2744 2837 \nQ 2550 3084 2163 3084 \nQ 1697 3084 1428 2787 \nQ 1159 2491 1159 1978 \nL 1159 0 \nL 581 0 \nL 581 3500 \nL 1159 3500 \nL 1159 2956 \nQ 1366 3272 1645 3428 \nQ 1925 3584 2291 3584 \nQ 2894 3584 3203 3211 \nQ 3513 2838 3513 2113 \nz\n\" transform=\"scale(0.015625)\"/>\n       <path id=\"DejaVuSans-78\" d=\"M 3513 3500 \nL 2247 1797 \nL 3578 0 \nL 2900 0 \nL 1881 1375 \nL 863 0 \nL 184 0 \nL 1544 1831 \nL 300 3500 \nL 978 3500 \nL 1906 2253 \nL 2834 3500 \nL 3513 3500 \nz\n\" transform=\"scale(0.015625)\"/>\n      </defs>\n      <use xlink:href=\"#DejaVuSans-56\"/>\n      <use xlink:href=\"#DejaVuSans-65\" transform=\"translate(60.658203 0)\"/>\n      <use xlink:href=\"#DejaVuSans-63\" transform=\"translate(122.181641 0)\"/>\n      <use xlink:href=\"#DejaVuSans-74\" transform=\"translate(177.162109 0)\"/>\n      <use xlink:href=\"#DejaVuSans-6f\" transform=\"translate(216.371094 0)\"/>\n      <use xlink:href=\"#DejaVuSans-72\" transform=\"translate(277.552734 0)\"/>\n      <use xlink:href=\"#DejaVuSans-69\" transform=\"translate(318.666016 0)\"/>\n      <use xlink:href=\"#DejaVuSans-7a\" transform=\"translate(346.449219 0)\"/>\n      <use xlink:href=\"#DejaVuSans-65\" transform=\"translate(398.939453 0)\"/>\n      <use xlink:href=\"#DejaVuSans-64\" transform=\"translate(460.462891 0)\"/>\n      <use xlink:href=\"#DejaVuSans-20\" transform=\"translate(523.939453 0)\"/>\n      <use xlink:href=\"#DejaVuSans-77\" transform=\"translate(555.726562 0)\"/>\n      <use xlink:href=\"#DejaVuSans-65\" transform=\"translate(637.513672 0)\"/>\n      <use xlink:href=\"#DejaVuSans-69\" transform=\"translate(699.037109 0)\"/>\n      <use xlink:href=\"#DejaVuSans-67\" transform=\"translate(726.820312 0)\"/>\n      <use xlink:href=\"#DejaVuSans-68\" transform=\"translate(790.296875 0)\"/>\n      <use xlink:href=\"#DejaVuSans-74\" transform=\"translate(853.675781 0)\"/>\n      <use xlink:href=\"#DejaVuSans-20\" transform=\"translate(892.884766 0)\"/>\n      <use xlink:href=\"#DejaVuSans-69\" transform=\"translate(924.671875 0)\"/>\n      <use xlink:href=\"#DejaVuSans-6e\" transform=\"translate(952.455078 0)\"/>\n      <use xlink:href=\"#DejaVuSans-64\" transform=\"translate(1015.833984 0)\"/>\n      <use xlink:href=\"#DejaVuSans-65\" transform=\"translate(1079.310547 0)\"/>\n      <use xlink:href=\"#DejaVuSans-78\" transform=\"translate(1139.083984 0)\"/>\n     </g>\n    </g>\n   </g>\n   <g id=\"matplotlib.axis_2\">\n    <g id=\"ytick_1\">\n     <g id=\"line2d_7\">\n      <defs>\n       <path id=\"m42623daac1\" d=\"M 0 0 \nL -3.5 0 \n\" style=\"stroke: #000000; stroke-width: 0.8\"/>\n      </defs>\n      <g>\n       <use xlink:href=\"#m42623daac1\" x=\"58.523438\" y=\"275.033773\" style=\"stroke: #000000; stroke-width: 0.8\"/>\n      </g>\n     </g>\n     <g id=\"text_8\">\n      <!-- −1.00 -->\n      <g transform=\"translate(20.878125 278.832992) scale(0.1 -0.1)\">\n       <defs>\n        <path id=\"DejaVuSans-2212\" d=\"M 678 2272 \nL 4684 2272 \nL 4684 1741 \nL 678 1741 \nL 678 2272 \nz\n\" transform=\"scale(0.015625)\"/>\n        <path id=\"DejaVuSans-2e\" d=\"M 684 794 \nL 1344 794 \nL 1344 0 \nL 684 0 \nL 684 794 \nz\n\" transform=\"scale(0.015625)\"/>\n       </defs>\n       <use xlink:href=\"#DejaVuSans-2212\"/>\n       <use xlink:href=\"#DejaVuSans-31\" transform=\"translate(83.789062 0)\"/>\n       <use xlink:href=\"#DejaVuSans-2e\" transform=\"translate(147.412109 0)\"/>\n       <use xlink:href=\"#DejaVuSans-30\" transform=\"translate(179.199219 0)\"/>\n       <use xlink:href=\"#DejaVuSans-30\" transform=\"translate(242.822266 0)\"/>\n      </g>\n     </g>\n    </g>\n    <g id=\"ytick_2\">\n     <g id=\"line2d_8\">\n      <g>\n       <use xlink:href=\"#m42623daac1\" x=\"58.523438\" y=\"240.293793\" style=\"stroke: #000000; stroke-width: 0.8\"/>\n      </g>\n     </g>\n     <g id=\"text_9\">\n      <!-- −0.75 -->\n      <g transform=\"translate(20.878125 244.093012) scale(0.1 -0.1)\">\n       <defs>\n        <path id=\"DejaVuSans-37\" d=\"M 525 4666 \nL 3525 4666 \nL 3525 4397 \nL 1831 0 \nL 1172 0 \nL 2766 4134 \nL 525 4134 \nL 525 4666 \nz\n\" transform=\"scale(0.015625)\"/>\n       </defs>\n       <use xlink:href=\"#DejaVuSans-2212\"/>\n       <use xlink:href=\"#DejaVuSans-30\" transform=\"translate(83.789062 0)\"/>\n       <use xlink:href=\"#DejaVuSans-2e\" transform=\"translate(147.412109 0)\"/>\n       <use xlink:href=\"#DejaVuSans-37\" transform=\"translate(179.199219 0)\"/>\n       <use xlink:href=\"#DejaVuSans-35\" transform=\"translate(242.822266 0)\"/>\n      </g>\n     </g>\n    </g>\n    <g id=\"ytick_3\">\n     <g id=\"line2d_9\">\n      <g>\n       <use xlink:href=\"#m42623daac1\" x=\"58.523438\" y=\"205.553814\" style=\"stroke: #000000; stroke-width: 0.8\"/>\n      </g>\n     </g>\n     <g id=\"text_10\">\n      <!-- −0.50 -->\n      <g transform=\"translate(20.878125 209.353032) scale(0.1 -0.1)\">\n       <use xlink:href=\"#DejaVuSans-2212\"/>\n       <use xlink:href=\"#DejaVuSans-30\" transform=\"translate(83.789062 0)\"/>\n       <use xlink:href=\"#DejaVuSans-2e\" transform=\"translate(147.412109 0)\"/>\n       <use xlink:href=\"#DejaVuSans-35\" transform=\"translate(179.199219 0)\"/>\n       <use xlink:href=\"#DejaVuSans-30\" transform=\"translate(242.822266 0)\"/>\n      </g>\n     </g>\n    </g>\n    <g id=\"ytick_4\">\n     <g id=\"line2d_10\">\n      <g>\n       <use xlink:href=\"#m42623daac1\" x=\"58.523438\" y=\"170.813834\" style=\"stroke: #000000; stroke-width: 0.8\"/>\n      </g>\n     </g>\n     <g id=\"text_11\">\n      <!-- −0.25 -->\n      <g transform=\"translate(20.878125 174.613053) scale(0.1 -0.1)\">\n       <use xlink:href=\"#DejaVuSans-2212\"/>\n       <use xlink:href=\"#DejaVuSans-30\" transform=\"translate(83.789062 0)\"/>\n       <use xlink:href=\"#DejaVuSans-2e\" transform=\"translate(147.412109 0)\"/>\n       <use xlink:href=\"#DejaVuSans-32\" transform=\"translate(179.199219 0)\"/>\n       <use xlink:href=\"#DejaVuSans-35\" transform=\"translate(242.822266 0)\"/>\n      </g>\n     </g>\n    </g>\n    <g id=\"ytick_5\">\n     <g id=\"line2d_11\">\n      <g>\n       <use xlink:href=\"#m42623daac1\" x=\"58.523438\" y=\"136.073854\" style=\"stroke: #000000; stroke-width: 0.8\"/>\n      </g>\n     </g>\n     <g id=\"text_12\">\n      <!-- 0.00 -->\n      <g transform=\"translate(29.257813 139.873073) scale(0.1 -0.1)\">\n       <use xlink:href=\"#DejaVuSans-30\"/>\n       <use xlink:href=\"#DejaVuSans-2e\" transform=\"translate(63.623047 0)\"/>\n       <use xlink:href=\"#DejaVuSans-30\" transform=\"translate(95.410156 0)\"/>\n       <use xlink:href=\"#DejaVuSans-30\" transform=\"translate(159.033203 0)\"/>\n      </g>\n     </g>\n    </g>\n    <g id=\"ytick_6\">\n     <g id=\"line2d_12\">\n      <g>\n       <use xlink:href=\"#m42623daac1\" x=\"58.523438\" y=\"101.333875\" style=\"stroke: #000000; stroke-width: 0.8\"/>\n      </g>\n     </g>\n     <g id=\"text_13\">\n      <!-- 0.25 -->\n      <g transform=\"translate(29.257813 105.133094) scale(0.1 -0.1)\">\n       <use xlink:href=\"#DejaVuSans-30\"/>\n       <use xlink:href=\"#DejaVuSans-2e\" transform=\"translate(63.623047 0)\"/>\n       <use xlink:href=\"#DejaVuSans-32\" transform=\"translate(95.410156 0)\"/>\n       <use xlink:href=\"#DejaVuSans-35\" transform=\"translate(159.033203 0)\"/>\n      </g>\n     </g>\n    </g>\n    <g id=\"ytick_7\">\n     <g id=\"line2d_13\">\n      <g>\n       <use xlink:href=\"#m42623daac1\" x=\"58.523438\" y=\"66.593895\" style=\"stroke: #000000; stroke-width: 0.8\"/>\n      </g>\n     </g>\n     <g id=\"text_14\">\n      <!-- 0.50 -->\n      <g transform=\"translate(29.257813 70.393114) scale(0.1 -0.1)\">\n       <use xlink:href=\"#DejaVuSans-30\"/>\n       <use xlink:href=\"#DejaVuSans-2e\" transform=\"translate(63.623047 0)\"/>\n       <use xlink:href=\"#DejaVuSans-35\" transform=\"translate(95.410156 0)\"/>\n       <use xlink:href=\"#DejaVuSans-30\" transform=\"translate(159.033203 0)\"/>\n      </g>\n     </g>\n    </g>\n    <g id=\"ytick_8\">\n     <g id=\"line2d_14\">\n      <g>\n       <use xlink:href=\"#m42623daac1\" x=\"58.523438\" y=\"31.853916\" style=\"stroke: #000000; stroke-width: 0.8\"/>\n      </g>\n     </g>\n     <g id=\"text_15\">\n      <!-- 0.75 -->\n      <g transform=\"translate(29.257813 35.653135) scale(0.1 -0.1)\">\n       <use xlink:href=\"#DejaVuSans-30\"/>\n       <use xlink:href=\"#DejaVuSans-2e\" transform=\"translate(63.623047 0)\"/>\n       <use xlink:href=\"#DejaVuSans-37\" transform=\"translate(95.410156 0)\"/>\n       <use xlink:href=\"#DejaVuSans-35\" transform=\"translate(159.033203 0)\"/>\n      </g>\n     </g>\n    </g>\n    <g id=\"text_16\">\n     <!-- Weight value -->\n     <g transform=\"translate(14.798438 178.465625) rotate(-90) scale(0.1 -0.1)\">\n      <defs>\n       <path id=\"DejaVuSans-57\" d=\"M 213 4666 \nL 850 4666 \nL 1831 722 \nL 2809 4666 \nL 3519 4666 \nL 4500 722 \nL 5478 4666 \nL 6119 4666 \nL 4947 0 \nL 4153 0 \nL 3169 4050 \nL 2175 0 \nL 1381 0 \nL 213 4666 \nz\n\" transform=\"scale(0.015625)\"/>\n       <path id=\"DejaVuSans-76\" d=\"M 191 3500 \nL 800 3500 \nL 1894 563 \nL 2988 3500 \nL 3597 3500 \nL 2284 0 \nL 1503 0 \nL 191 3500 \nz\n\" transform=\"scale(0.015625)\"/>\n       <path id=\"DejaVuSans-61\" d=\"M 2194 1759 \nQ 1497 1759 1228 1600 \nQ 959 1441 959 1056 \nQ 959 750 1161 570 \nQ 1363 391 1709 391 \nQ 2188 391 2477 730 \nQ 2766 1069 2766 1631 \nL 2766 1759 \nL 2194 1759 \nz\nM 3341 1997 \nL 3341 0 \nL 2766 0 \nL 2766 531 \nQ 2569 213 2275 61 \nQ 1981 -91 1556 -91 \nQ 1019 -91 701 211 \nQ 384 513 384 1019 \nQ 384 1609 779 1909 \nQ 1175 2209 1959 2209 \nL 2766 2209 \nL 2766 2266 \nQ 2766 2663 2505 2880 \nQ 2244 3097 1772 3097 \nQ 1472 3097 1187 3025 \nQ 903 2953 641 2809 \nL 641 3341 \nQ 956 3463 1253 3523 \nQ 1550 3584 1831 3584 \nQ 2591 3584 2966 3190 \nQ 3341 2797 3341 1997 \nz\n\" transform=\"scale(0.015625)\"/>\n       <path id=\"DejaVuSans-6c\" d=\"M 603 4863 \nL 1178 4863 \nL 1178 0 \nL 603 0 \nL 603 4863 \nz\n\" transform=\"scale(0.015625)\"/>\n       <path id=\"DejaVuSans-75\" d=\"M 544 1381 \nL 544 3500 \nL 1119 3500 \nL 1119 1403 \nQ 1119 906 1312 657 \nQ 1506 409 1894 409 \nQ 2359 409 2629 706 \nQ 2900 1003 2900 1516 \nL 2900 3500 \nL 3475 3500 \nL 3475 0 \nL 2900 0 \nL 2900 538 \nQ 2691 219 2414 64 \nQ 2138 -91 1772 -91 \nQ 1169 -91 856 284 \nQ 544 659 544 1381 \nz\nM 1991 3584 \nL 1991 3584 \nz\n\" transform=\"scale(0.015625)\"/>\n      </defs>\n      <use xlink:href=\"#DejaVuSans-57\"/>\n      <use xlink:href=\"#DejaVuSans-65\" transform=\"translate(93.001953 0)\"/>\n      <use xlink:href=\"#DejaVuSans-69\" transform=\"translate(154.525391 0)\"/>\n      <use xlink:href=\"#DejaVuSans-67\" transform=\"translate(182.308594 0)\"/>\n      <use xlink:href=\"#DejaVuSans-68\" transform=\"translate(245.785156 0)\"/>\n      <use xlink:href=\"#DejaVuSans-74\" transform=\"translate(309.164062 0)\"/>\n      <use xlink:href=\"#DejaVuSans-20\" transform=\"translate(348.373047 0)\"/>\n      <use xlink:href=\"#DejaVuSans-76\" transform=\"translate(380.160156 0)\"/>\n      <use xlink:href=\"#DejaVuSans-61\" transform=\"translate(439.339844 0)\"/>\n      <use xlink:href=\"#DejaVuSans-6c\" transform=\"translate(500.619141 0)\"/>\n      <use xlink:href=\"#DejaVuSans-75\" transform=\"translate(528.402344 0)\"/>\n      <use xlink:href=\"#DejaVuSans-65\" transform=\"translate(591.78125 0)\"/>\n     </g>\n    </g>\n   </g>\n   <g id=\"line2d_15\">\n    <defs>\n     <path id=\"m9176b3b327\" d=\"M 0 6 \nC 1.591219 6 3.117479 5.367802 4.242641 4.242641 \nC 5.367802 3.117479 6 1.591219 6 0 \nC 6 -1.591219 5.367802 -3.117479 4.242641 -4.242641 \nC 3.117479 -5.367802 1.591219 -6 0 -6 \nC -1.591219 -6 -3.117479 -5.367802 -4.242641 -4.242641 \nC -5.367802 -3.117479 -6 -1.591219 -6 0 \nC -6 1.591219 -5.367802 3.117479 -4.242641 4.242641 \nC -3.117479 5.367802 -1.591219 6 0 6 \nz\n\" style=\"stroke: #ff0000\"/>\n    </defs>\n    <g clip-path=\"url(#p7fead02d96)\">\n     <use xlink:href=\"#m9176b3b327\" x=\"96.568892\" y=\"251.735339\" style=\"fill: #ff0000; stroke: #ff0000\"/>\n     <use xlink:href=\"#m9176b3b327\" x=\"128.273438\" y=\"143.881749\" style=\"fill: #ff0000; stroke: #ff0000\"/>\n     <use xlink:href=\"#m9176b3b327\" x=\"159.977983\" y=\"123.361942\" style=\"fill: #ff0000; stroke: #ff0000\"/>\n     <use xlink:href=\"#m9176b3b327\" x=\"191.682528\" y=\"172.647904\" style=\"fill: #ff0000; stroke: #ff0000\"/>\n     <use xlink:href=\"#m9176b3b327\" x=\"223.387074\" y=\"51.479803\" style=\"fill: #ff0000; stroke: #ff0000\"/>\n     <use xlink:href=\"#m9176b3b327\" x=\"255.091619\" y=\"202.514344\" style=\"fill: #ff0000; stroke: #ff0000\"/>\n     <use xlink:href=\"#m9176b3b327\" x=\"286.796165\" y=\"65.884892\" style=\"fill: #ff0000; stroke: #ff0000\"/>\n     <use xlink:href=\"#m9176b3b327\" x=\"318.50071\" y=\"61.789482\" style=\"fill: #ff0000; stroke: #ff0000\"/>\n     <use xlink:href=\"#m9176b3b327\" x=\"350.205256\" y=\"108.170976\" style=\"fill: #ff0000; stroke: #ff0000\"/>\n     <use xlink:href=\"#m9176b3b327\" x=\"381.909801\" y=\"164.291435\" style=\"fill: #ff0000; stroke: #ff0000\"/>\n     <use xlink:href=\"#m9176b3b327\" x=\"413.614347\" y=\"142.72401\" style=\"fill: #ff0000; stroke: #ff0000\"/>\n     <use xlink:href=\"#m9176b3b327\" x=\"445.318892\" y=\"34.983559\" style=\"fill: #ff0000; stroke: #ff0000\"/>\n     <use xlink:href=\"#m9176b3b327\" x=\"477.023438\" y=\"84.794892\" style=\"fill: #ff0000; stroke: #ff0000\"/>\n     <use xlink:href=\"#m9176b3b327\" x=\"508.727983\" y=\"182.596166\" style=\"fill: #ff0000; stroke: #ff0000\"/>\n     <use xlink:href=\"#m9176b3b327\" x=\"540.432528\" y=\"240.14806\" style=\"fill: #ff0000; stroke: #ff0000\"/>\n     <use xlink:href=\"#m9176b3b327\" x=\"572.137074\" y=\"154.251623\" style=\"fill: #ff0000; stroke: #ff0000\"/>\n     <use xlink:href=\"#m9176b3b327\" x=\"603.841619\" y=\"145.826996\" style=\"fill: #ff0000; stroke: #ff0000\"/>\n     <use xlink:href=\"#m9176b3b327\" x=\"635.546165\" y=\"19.8\" style=\"fill: #ff0000; stroke: #ff0000\"/>\n     <use xlink:href=\"#m9176b3b327\" x=\"667.25071\" y=\"269.067121\" style=\"fill: #ff0000; stroke: #ff0000\"/>\n     <use xlink:href=\"#m9176b3b327\" x=\"698.955256\" y=\"121.242066\" style=\"fill: #ff0000; stroke: #ff0000\"/>\n     <use xlink:href=\"#m9176b3b327\" x=\"730.659801\" y=\"152.376945\" style=\"fill: #ff0000; stroke: #ff0000\"/>\n     <use xlink:href=\"#m9176b3b327\" x=\"762.364347\" y=\"222.64163\" style=\"fill: #ff0000; stroke: #ff0000\"/>\n     <use xlink:href=\"#m9176b3b327\" x=\"794.068892\" y=\"127.094354\" style=\"fill: #ff0000; stroke: #ff0000\"/>\n     <use xlink:href=\"#m9176b3b327\" x=\"825.773438\" y=\"86.896815\" style=\"fill: #ff0000; stroke: #ff0000\"/>\n     <use xlink:href=\"#m9176b3b327\" x=\"857.477983\" y=\"271.8\" style=\"fill: #ff0000; stroke: #ff0000\"/>\n    </g>\n   </g>\n   <g id=\"line2d_16\">\n    <defs>\n     <path id=\"md43d747c64\" d=\"M -6 6 \nL 6 6 \nL 6 -6 \nL -6 -6 \nz\n\" style=\"stroke: #000000; stroke-linejoin: miter\"/>\n    </defs>\n    <g clip-path=\"url(#p7fead02d96)\">\n     <use xlink:href=\"#md43d747c64\" x=\"96.568892\" y=\"230.881656\" style=\"stroke: #000000; stroke-linejoin: miter\"/>\n     <use xlink:href=\"#md43d747c64\" x=\"128.273438\" y=\"182.696833\" style=\"stroke: #000000; stroke-linejoin: miter\"/>\n     <use xlink:href=\"#md43d747c64\" x=\"159.977983\" y=\"176.715343\" style=\"stroke: #000000; stroke-linejoin: miter\"/>\n     <use xlink:href=\"#md43d747c64\" x=\"191.682528\" y=\"236.094909\" style=\"stroke: #000000; stroke-linejoin: miter\"/>\n     <use xlink:href=\"#md43d747c64\" x=\"223.387074\" y=\"142.29872\" style=\"stroke: #000000; stroke-linejoin: miter\"/>\n     <use xlink:href=\"#md43d747c64\" x=\"255.091619\" y=\"173.931757\" style=\"stroke: #000000; stroke-linejoin: miter\"/>\n     <use xlink:href=\"#md43d747c64\" x=\"286.796165\" y=\"196.961572\" style=\"stroke: #000000; stroke-linejoin: miter\"/>\n     <use xlink:href=\"#md43d747c64\" x=\"318.50071\" y=\"236.070765\" style=\"stroke: #000000; stroke-linejoin: miter\"/>\n     <use xlink:href=\"#md43d747c64\" x=\"350.205256\" y=\"180.329915\" style=\"stroke: #000000; stroke-linejoin: miter\"/>\n     <use xlink:href=\"#md43d747c64\" x=\"381.909801\" y=\"117.199123\" style=\"stroke: #000000; stroke-linejoin: miter\"/>\n     <use xlink:href=\"#md43d747c64\" x=\"413.614347\" y=\"184.379869\" style=\"stroke: #000000; stroke-linejoin: miter\"/>\n     <use xlink:href=\"#md43d747c64\" x=\"445.318892\" y=\"151.700482\" style=\"stroke: #000000; stroke-linejoin: miter\"/>\n     <use xlink:href=\"#md43d747c64\" x=\"477.023438\" y=\"149.886801\" style=\"stroke: #000000; stroke-linejoin: miter\"/>\n     <use xlink:href=\"#md43d747c64\" x=\"508.727983\" y=\"31.228592\" style=\"stroke: #000000; stroke-linejoin: miter\"/>\n     <use xlink:href=\"#md43d747c64\" x=\"540.432528\" y=\"121.878426\" style=\"stroke: #000000; stroke-linejoin: miter\"/>\n     <use xlink:href=\"#md43d747c64\" x=\"572.137074\" y=\"107.012756\" style=\"stroke: #000000; stroke-linejoin: miter\"/>\n     <use xlink:href=\"#md43d747c64\" x=\"603.841619\" y=\"203.388723\" style=\"stroke: #000000; stroke-linejoin: miter\"/>\n     <use xlink:href=\"#md43d747c64\" x=\"635.546165\" y=\"172.957377\" style=\"stroke: #000000; stroke-linejoin: miter\"/>\n     <use xlink:href=\"#md43d747c64\" x=\"667.25071\" y=\"194.524533\" style=\"stroke: #000000; stroke-linejoin: miter\"/>\n     <use xlink:href=\"#md43d747c64\" x=\"698.955256\" y=\"139.88961\" style=\"stroke: #000000; stroke-linejoin: miter\"/>\n     <use xlink:href=\"#md43d747c64\" x=\"730.659801\" y=\"148.88097\" style=\"stroke: #000000; stroke-linejoin: miter\"/>\n     <use xlink:href=\"#md43d747c64\" x=\"762.364347\" y=\"199.329124\" style=\"stroke: #000000; stroke-linejoin: miter\"/>\n     <use xlink:href=\"#md43d747c64\" x=\"794.068892\" y=\"108.402975\" style=\"stroke: #000000; stroke-linejoin: miter\"/>\n     <use xlink:href=\"#md43d747c64\" x=\"825.773438\" y=\"118.562898\" style=\"stroke: #000000; stroke-linejoin: miter\"/>\n     <use xlink:href=\"#md43d747c64\" x=\"857.477983\" y=\"194.603098\" style=\"stroke: #000000; stroke-linejoin: miter\"/>\n    </g>\n   </g>\n   <g id=\"line2d_17\">\n    <defs>\n     <path id=\"m230f1b0c0a\" d=\"M 0 -6 \nL -6 6 \nL 6 6 \nz\n\" style=\"stroke: #bf00bf; stroke-linejoin: miter\"/>\n    </defs>\n    <g clip-path=\"url(#p7fead02d96)\">\n     <use xlink:href=\"#m230f1b0c0a\" x=\"96.568892\" y=\"200.754196\" style=\"fill: #bf00bf; stroke: #bf00bf; stroke-linejoin: miter\"/>\n     <use xlink:href=\"#m230f1b0c0a\" x=\"128.273438\" y=\"79.111706\" style=\"fill: #bf00bf; stroke: #bf00bf; stroke-linejoin: miter\"/>\n     <use xlink:href=\"#m230f1b0c0a\" x=\"159.977983\" y=\"217.122457\" style=\"fill: #bf00bf; stroke: #bf00bf; stroke-linejoin: miter\"/>\n     <use xlink:href=\"#m230f1b0c0a\" x=\"191.682528\" y=\"205.034557\" style=\"fill: #bf00bf; stroke: #bf00bf; stroke-linejoin: miter\"/>\n     <use xlink:href=\"#m230f1b0c0a\" x=\"223.387074\" y=\"211.814533\" style=\"fill: #bf00bf; stroke: #bf00bf; stroke-linejoin: miter\"/>\n     <use xlink:href=\"#m230f1b0c0a\" x=\"255.091619\" y=\"63.514097\" style=\"fill: #bf00bf; stroke: #bf00bf; stroke-linejoin: miter\"/>\n     <use xlink:href=\"#m230f1b0c0a\" x=\"286.796165\" y=\"201.785238\" style=\"fill: #bf00bf; stroke: #bf00bf; stroke-linejoin: miter\"/>\n     <use xlink:href=\"#m230f1b0c0a\" x=\"318.50071\" y=\"143.459099\" style=\"fill: #bf00bf; stroke: #bf00bf; stroke-linejoin: miter\"/>\n     <use xlink:href=\"#m230f1b0c0a\" x=\"350.205256\" y=\"192.491348\" style=\"fill: #bf00bf; stroke: #bf00bf; stroke-linejoin: miter\"/>\n     <use xlink:href=\"#m230f1b0c0a\" x=\"381.909801\" y=\"114.620101\" style=\"fill: #bf00bf; stroke: #bf00bf; stroke-linejoin: miter\"/>\n     <use xlink:href=\"#m230f1b0c0a\" x=\"413.614347\" y=\"171.579263\" style=\"fill: #bf00bf; stroke: #bf00bf; stroke-linejoin: miter\"/>\n     <use xlink:href=\"#m230f1b0c0a\" x=\"445.318892\" y=\"150.684643\" style=\"fill: #bf00bf; stroke: #bf00bf; stroke-linejoin: miter\"/>\n     <use xlink:href=\"#m230f1b0c0a\" x=\"477.023438\" y=\"73.456466\" style=\"fill: #bf00bf; stroke: #bf00bf; stroke-linejoin: miter\"/>\n     <use xlink:href=\"#m230f1b0c0a\" x=\"508.727983\" y=\"182.861496\" style=\"fill: #bf00bf; stroke: #bf00bf; stroke-linejoin: miter\"/>\n     <use xlink:href=\"#m230f1b0c0a\" x=\"540.432528\" y=\"150.056376\" style=\"fill: #bf00bf; stroke: #bf00bf; stroke-linejoin: miter\"/>\n     <use xlink:href=\"#m230f1b0c0a\" x=\"572.137074\" y=\"162.963025\" style=\"fill: #bf00bf; stroke: #bf00bf; stroke-linejoin: miter\"/>\n     <use xlink:href=\"#m230f1b0c0a\" x=\"603.841619\" y=\"161.74617\" style=\"fill: #bf00bf; stroke: #bf00bf; stroke-linejoin: miter\"/>\n     <use xlink:href=\"#m230f1b0c0a\" x=\"635.546165\" y=\"204.37592\" style=\"fill: #bf00bf; stroke: #bf00bf; stroke-linejoin: miter\"/>\n     <use xlink:href=\"#m230f1b0c0a\" x=\"667.25071\" y=\"49.696067\" style=\"fill: #bf00bf; stroke: #bf00bf; stroke-linejoin: miter\"/>\n     <use xlink:href=\"#m230f1b0c0a\" x=\"698.955256\" y=\"87.098767\" style=\"fill: #bf00bf; stroke: #bf00bf; stroke-linejoin: miter\"/>\n     <use xlink:href=\"#m230f1b0c0a\" x=\"730.659801\" y=\"222.966741\" style=\"fill: #bf00bf; stroke: #bf00bf; stroke-linejoin: miter\"/>\n     <use xlink:href=\"#m230f1b0c0a\" x=\"762.364347\" y=\"217.386682\" style=\"fill: #bf00bf; stroke: #bf00bf; stroke-linejoin: miter\"/>\n     <use xlink:href=\"#m230f1b0c0a\" x=\"794.068892\" y=\"142.808228\" style=\"fill: #bf00bf; stroke: #bf00bf; stroke-linejoin: miter\"/>\n     <use xlink:href=\"#m230f1b0c0a\" x=\"825.773438\" y=\"198.289352\" style=\"fill: #bf00bf; stroke: #bf00bf; stroke-linejoin: miter\"/>\n     <use xlink:href=\"#m230f1b0c0a\" x=\"857.477983\" y=\"50.182043\" style=\"fill: #bf00bf; stroke: #bf00bf; stroke-linejoin: miter\"/>\n    </g>\n   </g>\n   <g id=\"line2d_18\">\n    <defs>\n     <path id=\"m0f6aa7dbdd\" d=\"M -7.5 0 \nL 7.5 0 \nM 0 7.5 \nL 0 -7.5 \n\" style=\"stroke: #008000; stroke-width: 3\"/>\n    </defs>\n    <g clip-path=\"url(#p7fead02d96)\">\n     <use xlink:href=\"#m0f6aa7dbdd\" x=\"96.568892\" y=\"230.881656\" style=\"fill: #008000; stroke: #008000; stroke-width: 3\"/>\n     <use xlink:href=\"#m0f6aa7dbdd\" x=\"128.273438\" y=\"182.696833\" style=\"fill: #008000; stroke: #008000; stroke-width: 3\"/>\n     <use xlink:href=\"#m0f6aa7dbdd\" x=\"159.977983\" y=\"176.715343\" style=\"fill: #008000; stroke: #008000; stroke-width: 3\"/>\n     <use xlink:href=\"#m0f6aa7dbdd\" x=\"191.682528\" y=\"236.094909\" style=\"fill: #008000; stroke: #008000; stroke-width: 3\"/>\n     <use xlink:href=\"#m0f6aa7dbdd\" x=\"223.387074\" y=\"142.29872\" style=\"fill: #008000; stroke: #008000; stroke-width: 3\"/>\n     <use xlink:href=\"#m0f6aa7dbdd\" x=\"255.091619\" y=\"173.931757\" style=\"fill: #008000; stroke: #008000; stroke-width: 3\"/>\n     <use xlink:href=\"#m0f6aa7dbdd\" x=\"286.796165\" y=\"196.961572\" style=\"fill: #008000; stroke: #008000; stroke-width: 3\"/>\n     <use xlink:href=\"#m0f6aa7dbdd\" x=\"318.50071\" y=\"236.070765\" style=\"fill: #008000; stroke: #008000; stroke-width: 3\"/>\n     <use xlink:href=\"#m0f6aa7dbdd\" x=\"350.205256\" y=\"180.329915\" style=\"fill: #008000; stroke: #008000; stroke-width: 3\"/>\n     <use xlink:href=\"#m0f6aa7dbdd\" x=\"381.909801\" y=\"117.199123\" style=\"fill: #008000; stroke: #008000; stroke-width: 3\"/>\n     <use xlink:href=\"#m0f6aa7dbdd\" x=\"413.614347\" y=\"184.379869\" style=\"fill: #008000; stroke: #008000; stroke-width: 3\"/>\n     <use xlink:href=\"#m0f6aa7dbdd\" x=\"445.318892\" y=\"151.700482\" style=\"fill: #008000; stroke: #008000; stroke-width: 3\"/>\n     <use xlink:href=\"#m0f6aa7dbdd\" x=\"477.023438\" y=\"149.886801\" style=\"fill: #008000; stroke: #008000; stroke-width: 3\"/>\n     <use xlink:href=\"#m0f6aa7dbdd\" x=\"508.727983\" y=\"31.228592\" style=\"fill: #008000; stroke: #008000; stroke-width: 3\"/>\n     <use xlink:href=\"#m0f6aa7dbdd\" x=\"540.432528\" y=\"121.878426\" style=\"fill: #008000; stroke: #008000; stroke-width: 3\"/>\n     <use xlink:href=\"#m0f6aa7dbdd\" x=\"572.137074\" y=\"107.012756\" style=\"fill: #008000; stroke: #008000; stroke-width: 3\"/>\n     <use xlink:href=\"#m0f6aa7dbdd\" x=\"603.841619\" y=\"203.388723\" style=\"fill: #008000; stroke: #008000; stroke-width: 3\"/>\n     <use xlink:href=\"#m0f6aa7dbdd\" x=\"635.546165\" y=\"172.957377\" style=\"fill: #008000; stroke: #008000; stroke-width: 3\"/>\n     <use xlink:href=\"#m0f6aa7dbdd\" x=\"667.25071\" y=\"194.524533\" style=\"fill: #008000; stroke: #008000; stroke-width: 3\"/>\n     <use xlink:href=\"#m0f6aa7dbdd\" x=\"698.955256\" y=\"139.88961\" style=\"fill: #008000; stroke: #008000; stroke-width: 3\"/>\n     <use xlink:href=\"#m0f6aa7dbdd\" x=\"730.659801\" y=\"148.88097\" style=\"fill: #008000; stroke: #008000; stroke-width: 3\"/>\n     <use xlink:href=\"#m0f6aa7dbdd\" x=\"762.364347\" y=\"199.329124\" style=\"fill: #008000; stroke: #008000; stroke-width: 3\"/>\n     <use xlink:href=\"#m0f6aa7dbdd\" x=\"794.068892\" y=\"108.402975\" style=\"fill: #008000; stroke: #008000; stroke-width: 3\"/>\n     <use xlink:href=\"#m0f6aa7dbdd\" x=\"825.773438\" y=\"118.562898\" style=\"fill: #008000; stroke: #008000; stroke-width: 3\"/>\n     <use xlink:href=\"#m0f6aa7dbdd\" x=\"857.477983\" y=\"194.603098\" style=\"fill: #008000; stroke: #008000; stroke-width: 3\"/>\n    </g>\n   </g>\n   <g id=\"patch_3\">\n    <path d=\"M 58.523438 284.4 \nL 58.523438 7.2 \n\" style=\"fill: none; stroke: #000000; stroke-width: 0.8; stroke-linejoin: miter; stroke-linecap: square\"/>\n   </g>\n   <g id=\"patch_4\">\n    <path d=\"M 895.523438 284.4 \nL 895.523438 7.2 \n\" style=\"fill: none; stroke: #000000; stroke-width: 0.8; stroke-linejoin: miter; stroke-linecap: square\"/>\n   </g>\n   <g id=\"patch_5\">\n    <path d=\"M 58.523438 284.4 \nL 895.523438 284.4 \n\" style=\"fill: none; stroke: #000000; stroke-width: 0.8; stroke-linejoin: miter; stroke-linecap: square\"/>\n   </g>\n   <g id=\"patch_6\">\n    <path d=\"M 58.523438 7.2 \nL 895.523438 7.2 \n\" style=\"fill: none; stroke: #000000; stroke-width: 0.8; stroke-linejoin: miter; stroke-linecap: square\"/>\n   </g>\n   <g id=\"legend_1\">\n    <g id=\"patch_7\">\n     <path d=\"M 65.523438 73.9125 \nL 137.021875 73.9125 \nQ 139.021875 73.9125 139.021875 71.9125 \nL 139.021875 14.2 \nQ 139.021875 12.2 137.021875 12.2 \nL 65.523438 12.2 \nQ 63.523438 12.2 63.523438 14.2 \nL 63.523438 71.9125 \nQ 63.523438 73.9125 65.523438 73.9125 \nz\n\" style=\"fill: #ffffff; opacity: 0.8; stroke: #cccccc; stroke-linejoin: miter\"/>\n    </g>\n    <g id=\"line2d_19\">\n     <g>\n      <use xlink:href=\"#m9176b3b327\" x=\"77.523438\" y=\"20.298437\" style=\"fill: #ff0000; stroke: #ff0000\"/>\n     </g>\n    </g>\n    <g id=\"text_17\">\n     <!-- no seed -->\n     <g transform=\"translate(95.523438 23.798437) scale(0.1 -0.1)\">\n      <defs>\n       <path id=\"DejaVuSans-73\" d=\"M 2834 3397 \nL 2834 2853 \nQ 2591 2978 2328 3040 \nQ 2066 3103 1784 3103 \nQ 1356 3103 1142 2972 \nQ 928 2841 928 2578 \nQ 928 2378 1081 2264 \nQ 1234 2150 1697 2047 \nL 1894 2003 \nQ 2506 1872 2764 1633 \nQ 3022 1394 3022 966 \nQ 3022 478 2636 193 \nQ 2250 -91 1575 -91 \nQ 1294 -91 989 -36 \nQ 684 19 347 128 \nL 347 722 \nQ 666 556 975 473 \nQ 1284 391 1588 391 \nQ 1994 391 2212 530 \nQ 2431 669 2431 922 \nQ 2431 1156 2273 1281 \nQ 2116 1406 1581 1522 \nL 1381 1569 \nQ 847 1681 609 1914 \nQ 372 2147 372 2553 \nQ 372 3047 722 3315 \nQ 1072 3584 1716 3584 \nQ 2034 3584 2315 3537 \nQ 2597 3491 2834 3397 \nz\n\" transform=\"scale(0.015625)\"/>\n      </defs>\n      <use xlink:href=\"#DejaVuSans-6e\"/>\n      <use xlink:href=\"#DejaVuSans-6f\" transform=\"translate(63.378906 0)\"/>\n      <use xlink:href=\"#DejaVuSans-20\" transform=\"translate(124.560547 0)\"/>\n      <use xlink:href=\"#DejaVuSans-73\" transform=\"translate(156.347656 0)\"/>\n      <use xlink:href=\"#DejaVuSans-65\" transform=\"translate(208.447266 0)\"/>\n      <use xlink:href=\"#DejaVuSans-65\" transform=\"translate(269.970703 0)\"/>\n      <use xlink:href=\"#DejaVuSans-64\" transform=\"translate(331.494141 0)\"/>\n     </g>\n    </g>\n    <g id=\"line2d_20\">\n     <g>\n      <use xlink:href=\"#md43d747c64\" x=\"77.523438\" y=\"34.976562\" style=\"stroke: #000000; stroke-linejoin: miter\"/>\n     </g>\n    </g>\n    <g id=\"text_18\">\n     <!-- rs1a -->\n     <g transform=\"translate(95.523438 38.476562) scale(0.1 -0.1)\">\n      <use xlink:href=\"#DejaVuSans-72\"/>\n      <use xlink:href=\"#DejaVuSans-73\" transform=\"translate(41.113281 0)\"/>\n      <use xlink:href=\"#DejaVuSans-31\" transform=\"translate(93.212891 0)\"/>\n      <use xlink:href=\"#DejaVuSans-61\" transform=\"translate(156.835938 0)\"/>\n     </g>\n    </g>\n    <g id=\"line2d_21\">\n     <g>\n      <use xlink:href=\"#m230f1b0c0a\" x=\"77.523438\" y=\"49.654687\" style=\"fill: #bf00bf; stroke: #bf00bf; stroke-linejoin: miter\"/>\n     </g>\n    </g>\n    <g id=\"text_19\">\n     <!-- rs2 -->\n     <g transform=\"translate(95.523438 53.154687) scale(0.1 -0.1)\">\n      <use xlink:href=\"#DejaVuSans-72\"/>\n      <use xlink:href=\"#DejaVuSans-73\" transform=\"translate(41.113281 0)\"/>\n      <use xlink:href=\"#DejaVuSans-32\" transform=\"translate(93.212891 0)\"/>\n     </g>\n    </g>\n    <g id=\"line2d_22\">\n     <g>\n      <use xlink:href=\"#m0f6aa7dbdd\" x=\"77.523438\" y=\"64.332812\" style=\"fill: #008000; stroke: #008000; stroke-width: 3\"/>\n     </g>\n    </g>\n    <g id=\"text_20\">\n     <!-- rs1b -->\n     <g transform=\"translate(95.523438 67.832812) scale(0.1 -0.1)\">\n      <defs>\n       <path id=\"DejaVuSans-62\" d=\"M 3116 1747 \nQ 3116 2381 2855 2742 \nQ 2594 3103 2138 3103 \nQ 1681 3103 1420 2742 \nQ 1159 2381 1159 1747 \nQ 1159 1113 1420 752 \nQ 1681 391 2138 391 \nQ 2594 391 2855 752 \nQ 3116 1113 3116 1747 \nz\nM 1159 2969 \nQ 1341 3281 1617 3432 \nQ 1894 3584 2278 3584 \nQ 2916 3584 3314 3078 \nQ 3713 2572 3713 1747 \nQ 3713 922 3314 415 \nQ 2916 -91 2278 -91 \nQ 1894 -91 1617 61 \nQ 1341 213 1159 525 \nL 1159 0 \nL 581 0 \nL 581 4863 \nL 1159 4863 \nL 1159 2969 \nz\n\" transform=\"scale(0.015625)\"/>\n      </defs>\n      <use xlink:href=\"#DejaVuSans-72\"/>\n      <use xlink:href=\"#DejaVuSans-73\" transform=\"translate(41.113281 0)\"/>\n      <use xlink:href=\"#DejaVuSans-31\" transform=\"translate(93.212891 0)\"/>\n      <use xlink:href=\"#DejaVuSans-62\" transform=\"translate(156.835938 0)\"/>\n     </g>\n    </g>\n   </g>\n  </g>\n </g>\n <defs>\n  <clipPath id=\"p7fead02d96\">\n   <rect x=\"58.523438\" y=\"7.2\" width=\"837\" height=\"277.2\"/>\n  </clipPath>\n </defs>\n</svg>\n"
          },
          "metadata": {}
        }
      ]
    },
    {
      "cell_type": "code",
      "source": [
        "#thw algebric tesst\n",
        "print('1a-1b should be zero:')\n",
        "print( w_1a-w_1b )\n",
        "print('\\n\\n')\n",
        "\n",
        "print('1a-2 should be non-zeros:')\n",
        "print( w_1a-w_2 )\n",
        "print('\\n\\n')\n",
        "\n",
        "print('1a-ns should be non-zeros:')\n",
        "print( w_1a-w_ns )\n",
        "print('\\n\\n')\n"
      ],
      "metadata": {
        "colab": {
          "base_uri": "https://localhost:8080/"
        },
        "id": "KdEFEbpr1_ZK",
        "outputId": "c28f9105-6cb9-4c88-c6fd-1df98316044c"
      },
      "execution_count": 10,
      "outputs": [
        {
          "output_type": "stream",
          "name": "stdout",
          "text": [
            "1a-1b should be zero:\n",
            "[0. 0. 0. 0. 0. 0. 0. 0. 0. 0. 0. 0. 0. 0. 0. 0. 0. 0. 0. 0. 0. 0. 0. 0.\n",
            " 0.]\n",
            "\n",
            "\n",
            "\n",
            "1a-2 should be non-zeros:\n",
            "[-0.21680683 -0.74543169  0.29078251 -0.22352022  0.50025801 -0.79460078\n",
            "  0.03471264 -0.66646316  0.08751756 -0.01855947 -0.09211725 -0.0073103\n",
            " -0.55001713  1.09119886  0.20277754  0.40263602 -0.29967313  0.22609788\n",
            " -1.04223195 -0.37989978  0.53314489  0.12994796  0.2475912   0.57373706\n",
            " -1.03930008]\n",
            "\n",
            "\n",
            "\n",
            "1a-ns should be non-zeros:\n",
            "[ 0.15006977 -0.27932576 -0.38394813 -0.45658493 -0.65356196  0.20568943\n",
            " -0.9432697  -1.25418383 -0.51927879  0.33889133 -0.29976888 -0.83993229\n",
            " -0.46842219  1.08928946  0.8511061   0.33994599 -0.41423259 -1.10216945\n",
            "  0.5364323  -0.13419369  0.02515815  0.16776425  0.13450914 -0.22787926\n",
            "  0.55553359]\n",
            "\n",
            "\n",
            "\n"
          ]
        }
      ]
    },
    {
      "cell_type": "code",
      "source": [],
      "metadata": {
        "id": "iQnryCyC2SHa"
      },
      "execution_count": null,
      "outputs": []
    }
  ]
}