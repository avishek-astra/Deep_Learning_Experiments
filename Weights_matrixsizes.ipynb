{
  "nbformat": 4,
  "nbformat_minor": 0,
  "metadata": {
    "colab": {
      "provenance": [],
      "authorship_tag": "ABX9TyM8MjJM4Yi3nlGDUo8ILW8X",
      "include_colab_link": true
    },
    "kernelspec": {
      "name": "python3",
      "display_name": "Python 3"
    },
    "language_info": {
      "name": "python"
    }
  },
  "cells": [
    {
      "cell_type": "markdown",
      "metadata": {
        "id": "view-in-github",
        "colab_type": "text"
      },
      "source": [
        "<a href=\"https://colab.research.google.com/github/avishek-astra/Deep_Learning_Experiments/blob/main/Weights_matrixsizes.ipynb\" target=\"_parent\"><img src=\"https://colab.research.google.com/assets/colab-badge.svg\" alt=\"Open In Colab\"/></a>"
      ]
    },
    {
      "cell_type": "code",
      "execution_count": 1,
      "metadata": {
        "id": "QAiFkJLBRmaG"
      },
      "outputs": [],
      "source": [
        "#import libraries\n",
        "import torch\n",
        "import torch.nn as nn"
      ]
    },
    {
      "cell_type": "markdown",
      "source": [
        "Create a model and inspect its weight matrices sizes"
      ],
      "metadata": {
        "id": "DdvM8aNkR0Ue"
      }
    },
    {
      "cell_type": "code",
      "source": [
        "#build a model\n",
        "aModel=nn.Sequential(\n",
        "    nn.Linear(10,14), #input layer\n",
        "    nn.Linear(14,19), #hidden layer\n",
        "    nn.Linear(19,8), #output layer\n",
        ")\n",
        "aModel\n"
      ],
      "metadata": {
        "colab": {
          "base_uri": "https://localhost:8080/"
        },
        "id": "FJpnCLNnRy7R",
        "outputId": "d3ebeead-3ddc-4e80-8926-2ff539a4d306"
      },
      "execution_count": 3,
      "outputs": [
        {
          "output_type": "execute_result",
          "data": {
            "text/plain": [
              "Sequential(\n",
              "  (0): Linear(in_features=10, out_features=14, bias=True)\n",
              "  (1): Linear(in_features=14, out_features=19, bias=True)\n",
              "  (2): Linear(in_features=19, out_features=8, bias=True)\n",
              ")"
            ]
          },
          "metadata": {},
          "execution_count": 3
        }
      ]
    },
    {
      "cell_type": "code",
      "source": [
        "#print the sizes of the weights matrices in each layer\n",
        "for i in range(len(aModel)):\n",
        "  print(aModel[i].weight.shape)"
      ],
      "metadata": {
        "colab": {
          "base_uri": "https://localhost:8080/"
        },
        "id": "Sg9X2p--SXaX",
        "outputId": "ccb09e9b-7e68-46ac-89d9-bc00a79f7243"
      },
      "execution_count": 4,
      "outputs": [
        {
          "output_type": "stream",
          "name": "stdout",
          "text": [
            "torch.Size([14, 10])\n",
            "torch.Size([19, 14])\n",
            "torch.Size([8, 19])\n"
          ]
        }
      ]
    },
    {
      "cell_type": "markdown",
      "source": [
        "Build a model with inconsistent layer shapes"
      ],
      "metadata": {
        "id": "0OeY6undSyrY"
      }
    },
    {
      "cell_type": "code",
      "source": [
        "M2=nn.Sequential(\n",
        "    nn.Linear(10,14), #input layer\n",
        "    nn.Linear(14,9), #hidden layer\n",
        "    nn.Linear(19,8), #output layer\n",
        ")\n",
        "for i in range(len(M2)):\n",
        "  print(M2[i].weight.shape)"
      ],
      "metadata": {
        "colab": {
          "base_uri": "https://localhost:8080/"
        },
        "id": "siVsZWwdSrxN",
        "outputId": "12757747-cbfa-4484-c882-78c5f8697a57"
      },
      "execution_count": 5,
      "outputs": [
        {
          "output_type": "stream",
          "name": "stdout",
          "text": [
            "torch.Size([14, 10])\n",
            "torch.Size([9, 14])\n",
            "torch.Size([8, 19])\n"
          ]
        }
      ]
    },
    {
      "cell_type": "markdown",
      "source": [
        "Test both models with fake data"
      ],
      "metadata": {
        "id": "AjaUL1Z1THQZ"
      }
    },
    {
      "cell_type": "code",
      "source": [
        "#generate the data\n",
        "nsamples=5\n",
        "nfeatures=10\n",
        "fakedata=torch.randn((nsamples,nfeatures))"
      ],
      "metadata": {
        "id": "HjaYf8L_TBuN"
      },
      "execution_count": 8,
      "outputs": []
    },
    {
      "cell_type": "code",
      "source": [
        "#test the first model\n",
        "#does the size of the model make sense?\n",
        "aModel(fakedata).shape"
      ],
      "metadata": {
        "colab": {
          "base_uri": "https://localhost:8080/"
        },
        "id": "7vJ4OnxSTSJK",
        "outputId": "e6388a46-0b16-4b74-e808-fa80e2b30feb"
      },
      "execution_count": 9,
      "outputs": [
        {
          "output_type": "execute_result",
          "data": {
            "text/plain": [
              "torch.Size([5, 8])"
            ]
          },
          "metadata": {},
          "execution_count": 9
        }
      ]
    },
    {
      "cell_type": "code",
      "source": [
        "#test the second model\n",
        "#does the sizes of the output make sense?\n",
        "M2(fakedata).shape"
      ],
      "metadata": {
        "id": "Bvk1GfMKTw1a"
      },
      "execution_count": null,
      "outputs": []
    },
    {
      "cell_type": "code",
      "source": [],
      "metadata": {
        "id": "64bjoGaHUb-p"
      },
      "execution_count": null,
      "outputs": []
    }
  ]
}