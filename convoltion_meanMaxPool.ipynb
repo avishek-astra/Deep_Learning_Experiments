{
  "nbformat": 4,
  "nbformat_minor": 0,
  "metadata": {
    "colab": {
      "provenance": [],
      "authorship_tag": "ABX9TyN+WXa7W7ELih1GMUaTuXYj",
      "include_colab_link": true
    },
    "kernelspec": {
      "name": "python3",
      "display_name": "Python 3"
    },
    "language_info": {
      "name": "python"
    }
  },
  "cells": [
    {
      "cell_type": "markdown",
      "metadata": {
        "id": "view-in-github",
        "colab_type": "text"
      },
      "source": [
        "<a href=\"https://colab.research.google.com/github/avishek-astra/Deep_Learning_Experiments/blob/main/convoltion_meanMaxPool.ipynb\" target=\"_parent\"><img src=\"https://colab.research.google.com/assets/colab-badge.svg\" alt=\"Open In Colab\"/></a>"
      ]
    },
    {
      "cell_type": "code",
      "execution_count": 2,
      "metadata": {
        "id": "PqSbzVIjwcwL"
      },
      "outputs": [],
      "source": [
        "#import libraries\n",
        "import torch\n",
        "import torch.nn as nn"
      ]
    },
    {
      "cell_type": "code",
      "source": [
        "#create a pool class instance with parameters\n",
        "#parameters\n",
        "poolSize=3\n",
        "stride=3\n",
        "#create the instance\n",
        "p2=nn.MaxPool2d(poolSize,stride=3)\n",
        "p3=nn.MaxPool3d(poolSize,stride=3)\n",
        "\n",
        "#let's have a look at them\n",
        "print(p2)\n",
        "print(p3)\n"
      ],
      "metadata": {
        "colab": {
          "base_uri": "https://localhost:8080/"
        },
        "id": "C6L1pk94wyqy",
        "outputId": "52601a2b-c478-4079-a1fa-e35b7a19d1eb"
      },
      "execution_count": 3,
      "outputs": [
        {
          "output_type": "stream",
          "name": "stdout",
          "text": [
            "MaxPool2d(kernel_size=3, stride=3, padding=0, dilation=1, ceil_mode=False)\n",
            "MaxPool3d(kernel_size=3, stride=3, padding=0, dilation=1, ceil_mode=False)\n"
          ]
        }
      ]
    },
    {
      "cell_type": "code",
      "source": [
        "#create image and apply maxpooling\n",
        "#create a 2D and a 3D image\n",
        "img2=torch.randn(1,1,30,30)\n",
        "img3=torch.rand(1,3,30,30)\n",
        "\n",
        "#all combinations of image and maxpool dimensionality\n",
        "img2Pool2=p2(img2)\n",
        "print(f'2D image,2D maxpool:{img2Pool2.shape}\\n')\n",
        "\n",
        "img3Pool2=p2(img3)\n",
        "print(f'3D image,2D maxpool :{img3Pool2.shape}\\n')\n",
        "\n",
        "img3Pool3=p3(img3)\n",
        "print(f'3D image,3D maxpool :{img3Pool3.shape}\\n')\n"
      ],
      "metadata": {
        "colab": {
          "base_uri": "https://localhost:8080/"
        },
        "id": "6Hx205bc7J7i",
        "outputId": "3df8bb1f-46e9-4449-c2d3-d8ff67827992"
      },
      "execution_count": 5,
      "outputs": [
        {
          "output_type": "stream",
          "name": "stdout",
          "text": [
            "2D image,2D maxpool:torch.Size([1, 1, 10, 10])\n",
            "\n",
            "3D image,2D maxpool :torch.Size([1, 3, 10, 10])\n",
            "\n",
            "3D image,3D maxpool :torch.Size([1, 1, 10, 10])\n",
            "\n"
          ]
        }
      ]
    },
    {
      "cell_type": "markdown",
      "source": [
        "Create a simple CNN"
      ],
      "metadata": {
        "id": "BzI2DomH-YbA"
      }
    },
    {
      "cell_type": "code",
      "source": [
        "littlenet=nn.Sequential(\n",
        "    ##the conv-pool block\n",
        "    nn.Conv2d(3,10,5,3,2),#convolution layer\n",
        "    nn.ReLU(),             # activation function\n",
        "    nn.AvgPool3d(3,3),     #average-pool\n",
        "\n",
        "    ##the FFN block\n",
        "    nn.Flatten(),         #vectorize to get from image to linear\n",
        "    nn.Linear(588,1),     #FC linear layer\n",
        "    nn.Sigmoid()          #output activation\n",
        "\n",
        ")"
      ],
      "metadata": {
        "id": "L3VXYui3-QrW"
      },
      "execution_count": 6,
      "outputs": []
    },
    {
      "cell_type": "code",
      "source": [
        "#test wuth the bit of data\n",
        "img=torch.randn(1,3,128,128)\n",
        "littlenet(img)"
      ],
      "metadata": {
        "colab": {
          "base_uri": "https://localhost:8080/"
        },
        "id": "KBufRgToBwsr",
        "outputId": "bfdeffb7-e79b-40c4-ada9-aa280800de17"
      },
      "execution_count": 7,
      "outputs": [
        {
          "output_type": "execute_result",
          "data": {
            "text/plain": [
              "tensor([[0.4832]], grad_fn=<SigmoidBackward0>)"
            ]
          },
          "metadata": {},
          "execution_count": 7
        }
      ]
    },
    {
      "cell_type": "code",
      "source": [],
      "metadata": {
        "id": "4tny30EXB6bT"
      },
      "execution_count": null,
      "outputs": []
    }
  ]
}