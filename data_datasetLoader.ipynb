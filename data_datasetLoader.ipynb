{
  "nbformat": 4,
  "nbformat_minor": 0,
  "metadata": {
    "colab": {
      "provenance": [],
      "authorship_tag": "ABX9TyOcQkQSvVyywBAxkBR3XJkn",
      "include_colab_link": true
    },
    "kernelspec": {
      "name": "python3",
      "display_name": "Python 3"
    },
    "language_info": {
      "name": "python"
    }
  },
  "cells": [
    {
      "cell_type": "markdown",
      "metadata": {
        "id": "view-in-github",
        "colab_type": "text"
      },
      "source": [
        "<a href=\"https://colab.research.google.com/github/avishek-astra/Deep_Learning_Experiments/blob/main/data_datasetLoader.ipynb\" target=\"_parent\"><img src=\"https://colab.research.google.com/assets/colab-badge.svg\" alt=\"Open In Colab\"/></a>"
      ]
    },
    {
      "cell_type": "code",
      "execution_count": 1,
      "metadata": {
        "id": "eGhaQV5mJB_c"
      },
      "outputs": [],
      "source": [
        "#import libraries\n",
        "import numpy as np\n",
        "import torch\n",
        "from torch.utils.data import DataLoader, TensorDataset"
      ]
    },
    {
      "cell_type": "markdown",
      "source": [
        "Datasets"
      ],
      "metadata": {
        "id": "Jjsjq9Q-JV9w"
      }
    },
    {
      "cell_type": "code",
      "source": [
        "#create some data in numpy\n",
        "nObservations=100\n",
        "nFeatures=20\n",
        "data=np.random.randn(nObservations,nFeatures)"
      ],
      "metadata": {
        "id": "9gdF9iW8JToD"
      },
      "execution_count": 2,
      "outputs": []
    },
    {
      "cell_type": "code",
      "source": [
        "#convert to pytorch tensor\n",
        "dataT=torch.tensor(data)\n",
        "#print out some information\n",
        "print('Name data: ')\n",
        "print(type(data))\n",
        "print(data.shape)\n",
        "print(data.dtype)\n",
        "print(\" \")\n",
        "\n",
        "print('Tensor data:')\n",
        "print(type(dataT))\n",
        "print(dataT.size())\n",
        "print(dataT.dtype)\n",
        "print(' ')"
      ],
      "metadata": {
        "colab": {
          "base_uri": "https://localhost:8080/"
        },
        "id": "0VHXXQo4Jjqr",
        "outputId": "b12e09c7-2942-4db9-a3a5-35ca41f1afc4"
      },
      "execution_count": 4,
      "outputs": [
        {
          "output_type": "stream",
          "name": "stdout",
          "text": [
            "Name data: \n",
            "<class 'numpy.ndarray'>\n",
            "(100, 20)\n",
            "float64\n",
            " \n",
            "Tensor data:\n",
            "<class 'torch.Tensor'>\n",
            "torch.Size([100, 20])\n",
            "torch.float64\n",
            " \n"
          ]
        }
      ]
    },
    {
      "cell_type": "code",
      "source": [
        "#sometimes you need to convert data types\n",
        "dataT2=torch.tensor(data).float()\n",
        "print(dataT2.dtype)\n",
        "#'long' is for ints\n",
        "dataT3=torch.tensor(data).long()\n",
        "print(dataT3.dtype)"
      ],
      "metadata": {
        "colab": {
          "base_uri": "https://localhost:8080/"
        },
        "id": "q_tecerkJ6J-",
        "outputId": "e8dcc877-8ed8-4a3e-d365-ad3d72a73838"
      },
      "execution_count": 5,
      "outputs": [
        {
          "output_type": "stream",
          "name": "stdout",
          "text": [
            "torch.float32\n",
            "torch.int64\n"
          ]
        }
      ]
    },
    {
      "cell_type": "code",
      "source": [
        "#convert tensor into Pytorch Datasets\n",
        "dataset=TensorDataset(dataT)\n",
        "#dataset is a two element tuple comprising data, labels\n",
        "dataset.tensors[0]"
      ],
      "metadata": {
        "colab": {
          "base_uri": "https://localhost:8080/"
        },
        "id": "BEoaMPy4Ko1K",
        "outputId": "105923a4-49f4-4da0-a904-a388f32552f8"
      },
      "execution_count": 12,
      "outputs": [
        {
          "output_type": "execute_result",
          "data": {
            "text/plain": [
              "tensor([[-1.1952, -0.1575, -1.4097,  ...,  0.9337, -0.7092, -1.5328],\n",
              "        [-0.8140, -0.4005,  1.6873,  ..., -1.2725,  0.3227,  0.9844],\n",
              "        [ 0.1882, -0.8809, -0.2159,  ...,  1.2647, -0.4740,  1.5368],\n",
              "        ...,\n",
              "        [ 0.9333, -1.5323,  1.8081,  ..., -0.4900, -0.8651,  1.0613],\n",
              "        [-0.2091, -1.8843, -0.2280,  ...,  0.3114, -0.8840, -0.3980],\n",
              "        [ 0.1206,  0.2440, -1.1332,  ..., -0.3964, -0.7763, -0.7662]],\n",
              "       dtype=torch.float64)"
            ]
          },
          "metadata": {},
          "execution_count": 12
        }
      ]
    },
    {
      "cell_type": "code",
      "source": [
        "#let's try again with labels\n",
        "labels=torch.ceil(torch.linspace(.01,4,nObservations))\n",
        "#transform to an actual matrix (column vector)\n",
        "labels=labels.reshape((len(labels),1))\n",
        "#now make another dataset\n",
        "dataset=TensorDataset(dataT,labels)\n",
        "print(dataset.tensors[0].shape)\n",
        "print(dataset.tensors[1].shape)"
      ],
      "metadata": {
        "colab": {
          "base_uri": "https://localhost:8080/"
        },
        "id": "RRLMGCAqLIFE",
        "outputId": "16e0f2bc-5762-4352-d123-fc24a9678b08"
      },
      "execution_count": 13,
      "outputs": [
        {
          "output_type": "stream",
          "name": "stdout",
          "text": [
            "torch.Size([100, 20])\n",
            "torch.Size([100, 1])\n"
          ]
        }
      ]
    },
    {
      "cell_type": "markdown",
      "source": [
        "Dataloaders"
      ],
      "metadata": {
        "id": "ZdldLolqMPhk"
      }
    },
    {
      "cell_type": "code",
      "source": [
        "batchsize=25\n",
        "dataloader=DataLoader(dataset,batch_size=batchsize)\n",
        "dataloader.dataset.tensors[0].size()"
      ],
      "metadata": {
        "colab": {
          "base_uri": "https://localhost:8080/"
        },
        "id": "OclcxBIzMB7G",
        "outputId": "4a01dcef-d4b7-4abe-e3f3-e829ed1cc9c2"
      },
      "execution_count": 14,
      "outputs": [
        {
          "output_type": "execute_result",
          "data": {
            "text/plain": [
              "torch.Size([100, 20])"
            ]
          },
          "metadata": {},
          "execution_count": 14
        }
      ]
    },
    {
      "cell_type": "code",
      "source": [
        "for dat,labs in dataloader:\n",
        "  print('BATCH INFO:')\n",
        "  print(dat.size())\n",
        "  print(labs.size())\n",
        "  print(' ')"
      ],
      "metadata": {
        "colab": {
          "base_uri": "https://localhost:8080/"
        },
        "id": "_qwTKt-oMck7",
        "outputId": "128a19b6-6547-4a74-c8a7-7d169221803e"
      },
      "execution_count": 15,
      "outputs": [
        {
          "output_type": "stream",
          "name": "stdout",
          "text": [
            "BATCH INFO:\n",
            "torch.Size([25, 20])\n",
            "torch.Size([25, 1])\n",
            " \n",
            "BATCH INFO:\n",
            "torch.Size([25, 20])\n",
            "torch.Size([25, 1])\n",
            " \n",
            "BATCH INFO:\n",
            "torch.Size([25, 20])\n",
            "torch.Size([25, 1])\n",
            " \n",
            "BATCH INFO:\n",
            "torch.Size([25, 20])\n",
            "torch.Size([25, 1])\n",
            " \n"
          ]
        }
      ]
    },
    {
      "cell_type": "code",
      "source": [
        "#inspect the labels\n",
        "for dat, labs in dataloader:\n",
        "  print(labs.T)\n",
        "  print(' ')\n"
      ],
      "metadata": {
        "colab": {
          "base_uri": "https://localhost:8080/"
        },
        "id": "kbwqtHzLMxWJ",
        "outputId": "0890fd09-69c6-4d5d-ac6b-7a5b3336027a"
      },
      "execution_count": 16,
      "outputs": [
        {
          "output_type": "stream",
          "name": "stdout",
          "text": [
            "tensor([[1., 1., 1., 1., 1., 1., 1., 1., 1., 1., 1., 1., 1., 1., 1., 1., 1., 1.,\n",
            "         1., 1., 1., 1., 1., 1., 1.]])\n",
            " \n",
            "tensor([[2., 2., 2., 2., 2., 2., 2., 2., 2., 2., 2., 2., 2., 2., 2., 2., 2., 2.,\n",
            "         2., 2., 2., 2., 2., 2., 2.]])\n",
            " \n",
            "tensor([[3., 3., 3., 3., 3., 3., 3., 3., 3., 3., 3., 3., 3., 3., 3., 3., 3., 3.,\n",
            "         3., 3., 3., 3., 3., 3., 3.]])\n",
            " \n",
            "tensor([[4., 4., 4., 4., 4., 4., 4., 4., 4., 4., 4., 4., 4., 4., 4., 4., 4., 4.,\n",
            "         4., 4., 4., 4., 4., 4., 4.]])\n",
            " \n"
          ]
        }
      ]
    },
    {
      "cell_type": "code",
      "source": [
        "#try again with shuffling(shuffling happens during iteration)\n",
        "dataloader=DataLoader(dataset,batch_size=batchsize,shuffle=True)\n",
        "for data,labs in dataloader:\n",
        "  print(labs.T)\n",
        "  print(' ')"
      ],
      "metadata": {
        "colab": {
          "base_uri": "https://localhost:8080/"
        },
        "id": "G8oiOHk9NF6Q",
        "outputId": "9765baf9-1d8d-4ecc-dbf1-625c1a87c5cc"
      },
      "execution_count": 18,
      "outputs": [
        {
          "output_type": "stream",
          "name": "stdout",
          "text": [
            "tensor([[4., 2., 3., 1., 4., 1., 1., 3., 2., 2., 1., 4., 4., 3., 3., 1., 1., 2.,\n",
            "         1., 2., 4., 3., 3., 1., 4.]])\n",
            " \n",
            "tensor([[1., 2., 1., 4., 2., 3., 2., 3., 3., 4., 2., 3., 4., 1., 4., 3., 3., 1.,\n",
            "         3., 2., 1., 1., 1., 1., 3.]])\n",
            " \n",
            "tensor([[2., 3., 4., 3., 2., 4., 1., 3., 3., 2., 2., 2., 4., 2., 2., 1., 4., 1.,\n",
            "         1., 2., 1., 4., 4., 2., 2.]])\n",
            " \n",
            "tensor([[1., 3., 4., 4., 3., 2., 2., 4., 1., 4., 1., 4., 2., 3., 4., 3., 1., 2.,\n",
            "         2., 3., 4., 3., 4., 3., 4.]])\n",
            " \n"
          ]
        }
      ]
    },
    {
      "cell_type": "code",
      "source": [],
      "metadata": {
        "id": "kcIc47nlNklA"
      },
      "execution_count": null,
      "outputs": []
    }
  ]
}